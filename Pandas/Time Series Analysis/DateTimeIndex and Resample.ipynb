{
 "cells": [
  {
   "cell_type": "code",
   "execution_count": 1,
   "metadata": {
    "scrolled": true
   },
   "outputs": [
    {
     "data": {
      "text/html": [
       "<div>\n",
       "<style scoped>\n",
       "    .dataframe tbody tr th:only-of-type {\n",
       "        vertical-align: middle;\n",
       "    }\n",
       "\n",
       "    .dataframe tbody tr th {\n",
       "        vertical-align: top;\n",
       "    }\n",
       "\n",
       "    .dataframe thead th {\n",
       "        text-align: right;\n",
       "    }\n",
       "</style>\n",
       "<table border=\"1\" class=\"dataframe\">\n",
       "  <thead>\n",
       "    <tr style=\"text-align: right;\">\n",
       "      <th></th>\n",
       "      <th>Date</th>\n",
       "      <th>Close/Last</th>\n",
       "      <th>Volume</th>\n",
       "      <th>Open</th>\n",
       "      <th>High</th>\n",
       "      <th>Low</th>\n",
       "    </tr>\n",
       "  </thead>\n",
       "  <tbody>\n",
       "    <tr>\n",
       "      <th>0</th>\n",
       "      <td>8/21/2020</td>\n",
       "      <td>$497.48</td>\n",
       "      <td>84513660</td>\n",
       "      <td>$477.05</td>\n",
       "      <td>$499.47</td>\n",
       "      <td>$477</td>\n",
       "    </tr>\n",
       "    <tr>\n",
       "      <th>1</th>\n",
       "      <td>8/20/2020</td>\n",
       "      <td>$473.10</td>\n",
       "      <td>31726800</td>\n",
       "      <td>$463</td>\n",
       "      <td>$473.57</td>\n",
       "      <td>$462.93</td>\n",
       "    </tr>\n",
       "    <tr>\n",
       "      <th>2</th>\n",
       "      <td>8/19/2020</td>\n",
       "      <td>$462.83</td>\n",
       "      <td>36384500</td>\n",
       "      <td>$463.93</td>\n",
       "      <td>$468.65</td>\n",
       "      <td>$462.44</td>\n",
       "    </tr>\n",
       "    <tr>\n",
       "      <th>3</th>\n",
       "      <td>8/18/2020</td>\n",
       "      <td>$462.25</td>\n",
       "      <td>26408390</td>\n",
       "      <td>$457.41</td>\n",
       "      <td>$464</td>\n",
       "      <td>$456.03</td>\n",
       "    </tr>\n",
       "    <tr>\n",
       "      <th>4</th>\n",
       "      <td>8/17/2020</td>\n",
       "      <td>$458.43</td>\n",
       "      <td>29890360</td>\n",
       "      <td>$464.25</td>\n",
       "      <td>$464.35</td>\n",
       "      <td>$455.85</td>\n",
       "    </tr>\n",
       "    <tr>\n",
       "      <th>5</th>\n",
       "      <td>8/14/2020</td>\n",
       "      <td>$459.63</td>\n",
       "      <td>41391300</td>\n",
       "      <td>$459.32</td>\n",
       "      <td>$460</td>\n",
       "      <td>$452.18</td>\n",
       "    </tr>\n",
       "    <tr>\n",
       "      <th>6</th>\n",
       "      <td>8/13/2020</td>\n",
       "      <td>$460.04</td>\n",
       "      <td>52520520</td>\n",
       "      <td>$457.72</td>\n",
       "      <td>$464.17</td>\n",
       "      <td>$455.71</td>\n",
       "    </tr>\n",
       "    <tr>\n",
       "      <th>7</th>\n",
       "      <td>8/12/2020</td>\n",
       "      <td>$452.04</td>\n",
       "      <td>41486210</td>\n",
       "      <td>$441.99</td>\n",
       "      <td>$453.10</td>\n",
       "      <td>$441.19</td>\n",
       "    </tr>\n",
       "    <tr>\n",
       "      <th>8</th>\n",
       "      <td>8/11/2020</td>\n",
       "      <td>$437.50</td>\n",
       "      <td>46975590</td>\n",
       "      <td>$447.88</td>\n",
       "      <td>$449.93</td>\n",
       "      <td>$436.43</td>\n",
       "    </tr>\n",
       "    <tr>\n",
       "      <th>9</th>\n",
       "      <td>8/10/2020</td>\n",
       "      <td>$450.91</td>\n",
       "      <td>53100860</td>\n",
       "      <td>$450.40</td>\n",
       "      <td>$455.10</td>\n",
       "      <td>$440</td>\n",
       "    </tr>\n",
       "  </tbody>\n",
       "</table>\n",
       "</div>"
      ],
      "text/plain": [
       "        Date  Close/Last    Volume      Open      High       Low\n",
       "0  8/21/2020    $497.48   84513660  $477.05   $499.47      $477 \n",
       "1  8/20/2020    $473.10   31726800     $463   $473.57   $462.93 \n",
       "2  8/19/2020    $462.83   36384500  $463.93   $468.65   $462.44 \n",
       "3  8/18/2020    $462.25   26408390  $457.41      $464   $456.03 \n",
       "4  8/17/2020    $458.43   29890360  $464.25   $464.35   $455.85 \n",
       "5  8/14/2020    $459.63   41391300  $459.32      $460   $452.18 \n",
       "6  8/13/2020    $460.04   52520520  $457.72   $464.17   $455.71 \n",
       "7  8/12/2020    $452.04   41486210  $441.99   $453.10   $441.19 \n",
       "8  8/11/2020    $437.50   46975590  $447.88   $449.93   $436.43 \n",
       "9  8/10/2020    $450.91   53100860  $450.40   $455.10      $440 "
      ]
     },
     "execution_count": 1,
     "metadata": {},
     "output_type": "execute_result"
    }
   ],
   "source": [
    "import pandas as pd\n",
    "df = pd.read_csv(\"Historical_Price_Apple.csv\")\n",
    "df.head(10)"
   ]
  },
  {
   "cell_type": "code",
   "execution_count": 2,
   "metadata": {},
   "outputs": [
    {
     "data": {
      "text/plain": [
       "str"
      ]
     },
     "execution_count": 2,
     "metadata": {},
     "output_type": "execute_result"
    }
   ],
   "source": [
    "type(df[\"Date\"][0])"
   ]
  },
  {
   "cell_type": "code",
   "execution_count": 5,
   "metadata": {},
   "outputs": [
    {
     "data": {
      "text/html": [
       "<div>\n",
       "<style scoped>\n",
       "    .dataframe tbody tr th:only-of-type {\n",
       "        vertical-align: middle;\n",
       "    }\n",
       "\n",
       "    .dataframe tbody tr th {\n",
       "        vertical-align: top;\n",
       "    }\n",
       "\n",
       "    .dataframe thead th {\n",
       "        text-align: right;\n",
       "    }\n",
       "</style>\n",
       "<table border=\"1\" class=\"dataframe\">\n",
       "  <thead>\n",
       "    <tr style=\"text-align: right;\">\n",
       "      <th></th>\n",
       "      <th>Date</th>\n",
       "      <th>Close/Last</th>\n",
       "      <th>Volume</th>\n",
       "      <th>Open</th>\n",
       "      <th>High</th>\n",
       "      <th>Low</th>\n",
       "    </tr>\n",
       "  </thead>\n",
       "  <tbody>\n",
       "    <tr>\n",
       "      <th>0</th>\n",
       "      <td>2020-08-21</td>\n",
       "      <td>$497.48</td>\n",
       "      <td>84513660</td>\n",
       "      <td>$477.05</td>\n",
       "      <td>$499.47</td>\n",
       "      <td>$477</td>\n",
       "    </tr>\n",
       "    <tr>\n",
       "      <th>1</th>\n",
       "      <td>2020-08-20</td>\n",
       "      <td>$473.10</td>\n",
       "      <td>31726800</td>\n",
       "      <td>$463</td>\n",
       "      <td>$473.57</td>\n",
       "      <td>$462.93</td>\n",
       "    </tr>\n",
       "    <tr>\n",
       "      <th>2</th>\n",
       "      <td>2020-08-19</td>\n",
       "      <td>$462.83</td>\n",
       "      <td>36384500</td>\n",
       "      <td>$463.93</td>\n",
       "      <td>$468.65</td>\n",
       "      <td>$462.44</td>\n",
       "    </tr>\n",
       "    <tr>\n",
       "      <th>3</th>\n",
       "      <td>2020-08-18</td>\n",
       "      <td>$462.25</td>\n",
       "      <td>26408390</td>\n",
       "      <td>$457.41</td>\n",
       "      <td>$464</td>\n",
       "      <td>$456.03</td>\n",
       "    </tr>\n",
       "    <tr>\n",
       "      <th>4</th>\n",
       "      <td>2020-08-17</td>\n",
       "      <td>$458.43</td>\n",
       "      <td>29890360</td>\n",
       "      <td>$464.25</td>\n",
       "      <td>$464.35</td>\n",
       "      <td>$455.85</td>\n",
       "    </tr>\n",
       "    <tr>\n",
       "      <th>5</th>\n",
       "      <td>2020-08-14</td>\n",
       "      <td>$459.63</td>\n",
       "      <td>41391300</td>\n",
       "      <td>$459.32</td>\n",
       "      <td>$460</td>\n",
       "      <td>$452.18</td>\n",
       "    </tr>\n",
       "    <tr>\n",
       "      <th>6</th>\n",
       "      <td>2020-08-13</td>\n",
       "      <td>$460.04</td>\n",
       "      <td>52520520</td>\n",
       "      <td>$457.72</td>\n",
       "      <td>$464.17</td>\n",
       "      <td>$455.71</td>\n",
       "    </tr>\n",
       "    <tr>\n",
       "      <th>7</th>\n",
       "      <td>2020-08-12</td>\n",
       "      <td>$452.04</td>\n",
       "      <td>41486210</td>\n",
       "      <td>$441.99</td>\n",
       "      <td>$453.10</td>\n",
       "      <td>$441.19</td>\n",
       "    </tr>\n",
       "    <tr>\n",
       "      <th>8</th>\n",
       "      <td>2020-08-11</td>\n",
       "      <td>$437.50</td>\n",
       "      <td>46975590</td>\n",
       "      <td>$447.88</td>\n",
       "      <td>$449.93</td>\n",
       "      <td>$436.43</td>\n",
       "    </tr>\n",
       "    <tr>\n",
       "      <th>9</th>\n",
       "      <td>2020-08-10</td>\n",
       "      <td>$450.91</td>\n",
       "      <td>53100860</td>\n",
       "      <td>$450.40</td>\n",
       "      <td>$455.10</td>\n",
       "      <td>$440</td>\n",
       "    </tr>\n",
       "  </tbody>\n",
       "</table>\n",
       "</div>"
      ],
      "text/plain": [
       "        Date  Close/Last    Volume      Open      High       Low\n",
       "0 2020-08-21    $497.48   84513660  $477.05   $499.47      $477 \n",
       "1 2020-08-20    $473.10   31726800     $463   $473.57   $462.93 \n",
       "2 2020-08-19    $462.83   36384500  $463.93   $468.65   $462.44 \n",
       "3 2020-08-18    $462.25   26408390  $457.41      $464   $456.03 \n",
       "4 2020-08-17    $458.43   29890360  $464.25   $464.35   $455.85 \n",
       "5 2020-08-14    $459.63   41391300  $459.32      $460   $452.18 \n",
       "6 2020-08-13    $460.04   52520520  $457.72   $464.17   $455.71 \n",
       "7 2020-08-12    $452.04   41486210  $441.99   $453.10   $441.19 \n",
       "8 2020-08-11    $437.50   46975590  $447.88   $449.93   $436.43 \n",
       "9 2020-08-10    $450.91   53100860  $450.40   $455.10      $440 "
      ]
     },
     "execution_count": 5,
     "metadata": {},
     "output_type": "execute_result"
    }
   ],
   "source": [
    "df = pd.read_csv(\"Historical_Price_Apple.csv\", parse_dates = [\"Date\"])\n",
    "df.head(10)"
   ]
  },
  {
   "cell_type": "code",
   "execution_count": 6,
   "metadata": {},
   "outputs": [
    {
     "data": {
      "text/plain": [
       "pandas._libs.tslibs.timestamps.Timestamp"
      ]
     },
     "execution_count": 6,
     "metadata": {},
     "output_type": "execute_result"
    }
   ],
   "source": [
    "type(df[\"Date\"][0])"
   ]
  },
  {
   "cell_type": "code",
   "execution_count": 7,
   "metadata": {},
   "outputs": [
    {
     "data": {
      "text/html": [
       "<div>\n",
       "<style scoped>\n",
       "    .dataframe tbody tr th:only-of-type {\n",
       "        vertical-align: middle;\n",
       "    }\n",
       "\n",
       "    .dataframe tbody tr th {\n",
       "        vertical-align: top;\n",
       "    }\n",
       "\n",
       "    .dataframe thead th {\n",
       "        text-align: right;\n",
       "    }\n",
       "</style>\n",
       "<table border=\"1\" class=\"dataframe\">\n",
       "  <thead>\n",
       "    <tr style=\"text-align: right;\">\n",
       "      <th></th>\n",
       "      <th>Close/Last</th>\n",
       "      <th>Volume</th>\n",
       "      <th>Open</th>\n",
       "      <th>High</th>\n",
       "      <th>Low</th>\n",
       "    </tr>\n",
       "    <tr>\n",
       "      <th>Date</th>\n",
       "      <th></th>\n",
       "      <th></th>\n",
       "      <th></th>\n",
       "      <th></th>\n",
       "      <th></th>\n",
       "    </tr>\n",
       "  </thead>\n",
       "  <tbody>\n",
       "    <tr>\n",
       "      <th>2020-08-21</th>\n",
       "      <td>$497.48</td>\n",
       "      <td>84513660</td>\n",
       "      <td>$477.05</td>\n",
       "      <td>$499.47</td>\n",
       "      <td>$477</td>\n",
       "    </tr>\n",
       "    <tr>\n",
       "      <th>2020-08-20</th>\n",
       "      <td>$473.10</td>\n",
       "      <td>31726800</td>\n",
       "      <td>$463</td>\n",
       "      <td>$473.57</td>\n",
       "      <td>$462.93</td>\n",
       "    </tr>\n",
       "    <tr>\n",
       "      <th>2020-08-19</th>\n",
       "      <td>$462.83</td>\n",
       "      <td>36384500</td>\n",
       "      <td>$463.93</td>\n",
       "      <td>$468.65</td>\n",
       "      <td>$462.44</td>\n",
       "    </tr>\n",
       "    <tr>\n",
       "      <th>2020-08-18</th>\n",
       "      <td>$462.25</td>\n",
       "      <td>26408390</td>\n",
       "      <td>$457.41</td>\n",
       "      <td>$464</td>\n",
       "      <td>$456.03</td>\n",
       "    </tr>\n",
       "    <tr>\n",
       "      <th>2020-08-17</th>\n",
       "      <td>$458.43</td>\n",
       "      <td>29890360</td>\n",
       "      <td>$464.25</td>\n",
       "      <td>$464.35</td>\n",
       "      <td>$455.85</td>\n",
       "    </tr>\n",
       "    <tr>\n",
       "      <th>2020-08-14</th>\n",
       "      <td>$459.63</td>\n",
       "      <td>41391300</td>\n",
       "      <td>$459.32</td>\n",
       "      <td>$460</td>\n",
       "      <td>$452.18</td>\n",
       "    </tr>\n",
       "    <tr>\n",
       "      <th>2020-08-13</th>\n",
       "      <td>$460.04</td>\n",
       "      <td>52520520</td>\n",
       "      <td>$457.72</td>\n",
       "      <td>$464.17</td>\n",
       "      <td>$455.71</td>\n",
       "    </tr>\n",
       "    <tr>\n",
       "      <th>2020-08-12</th>\n",
       "      <td>$452.04</td>\n",
       "      <td>41486210</td>\n",
       "      <td>$441.99</td>\n",
       "      <td>$453.10</td>\n",
       "      <td>$441.19</td>\n",
       "    </tr>\n",
       "    <tr>\n",
       "      <th>2020-08-11</th>\n",
       "      <td>$437.50</td>\n",
       "      <td>46975590</td>\n",
       "      <td>$447.88</td>\n",
       "      <td>$449.93</td>\n",
       "      <td>$436.43</td>\n",
       "    </tr>\n",
       "    <tr>\n",
       "      <th>2020-08-10</th>\n",
       "      <td>$450.91</td>\n",
       "      <td>53100860</td>\n",
       "      <td>$450.40</td>\n",
       "      <td>$455.10</td>\n",
       "      <td>$440</td>\n",
       "    </tr>\n",
       "  </tbody>\n",
       "</table>\n",
       "</div>"
      ],
      "text/plain": [
       "            Close/Last    Volume      Open      High       Low\n",
       "Date                                                          \n",
       "2020-08-21    $497.48   84513660  $477.05   $499.47      $477 \n",
       "2020-08-20    $473.10   31726800     $463   $473.57   $462.93 \n",
       "2020-08-19    $462.83   36384500  $463.93   $468.65   $462.44 \n",
       "2020-08-18    $462.25   26408390  $457.41      $464   $456.03 \n",
       "2020-08-17    $458.43   29890360  $464.25   $464.35   $455.85 \n",
       "2020-08-14    $459.63   41391300  $459.32      $460   $452.18 \n",
       "2020-08-13    $460.04   52520520  $457.72   $464.17   $455.71 \n",
       "2020-08-12    $452.04   41486210  $441.99   $453.10   $441.19 \n",
       "2020-08-11    $437.50   46975590  $447.88   $449.93   $436.43 \n",
       "2020-08-10    $450.91   53100860  $450.40   $455.10      $440 "
      ]
     },
     "execution_count": 7,
     "metadata": {},
     "output_type": "execute_result"
    }
   ],
   "source": [
    "df = pd.read_csv(\"Historical_Price_Apple.csv\", parse_dates = [\"Date\"] , index_col=\"Date\")\n",
    "df.head(10)"
   ]
  },
  {
   "cell_type": "code",
   "execution_count": 8,
   "metadata": {},
   "outputs": [
    {
     "data": {
      "text/plain": [
       "DatetimeIndex(['2020-08-21', '2020-08-20', '2020-08-19', '2020-08-18',\n",
       "               '2020-08-17', '2020-08-14', '2020-08-13', '2020-08-12',\n",
       "               '2020-08-11', '2020-08-10',\n",
       "               ...\n",
       "               '2015-09-04', '2015-09-03', '2015-09-02', '2015-09-01',\n",
       "               '2015-08-31', '2015-08-28', '2015-08-27', '2015-08-26',\n",
       "               '2015-08-25', '2015-08-24'],\n",
       "              dtype='datetime64[ns]', name='Date', length=1259, freq=None)"
      ]
     },
     "execution_count": 8,
     "metadata": {},
     "output_type": "execute_result"
    }
   ],
   "source": [
    "df.index"
   ]
  },
  {
   "cell_type": "code",
   "execution_count": 19,
   "metadata": {},
   "outputs": [
    {
     "data": {
      "text/html": [
       "<div>\n",
       "<style scoped>\n",
       "    .dataframe tbody tr th:only-of-type {\n",
       "        vertical-align: middle;\n",
       "    }\n",
       "\n",
       "    .dataframe tbody tr th {\n",
       "        vertical-align: top;\n",
       "    }\n",
       "\n",
       "    .dataframe thead th {\n",
       "        text-align: right;\n",
       "    }\n",
       "</style>\n",
       "<table border=\"1\" class=\"dataframe\">\n",
       "  <thead>\n",
       "    <tr style=\"text-align: right;\">\n",
       "      <th></th>\n",
       "      <th>Close/Last</th>\n",
       "      <th>Volume</th>\n",
       "      <th>Open</th>\n",
       "      <th>High</th>\n",
       "      <th>Low</th>\n",
       "    </tr>\n",
       "    <tr>\n",
       "      <th>Date</th>\n",
       "      <th></th>\n",
       "      <th></th>\n",
       "      <th></th>\n",
       "      <th></th>\n",
       "      <th></th>\n",
       "    </tr>\n",
       "  </thead>\n",
       "  <tbody>\n",
       "    <tr>\n",
       "      <th>2017-06-30</th>\n",
       "      <td>$144.02</td>\n",
       "      <td>22986960</td>\n",
       "      <td>$144.45</td>\n",
       "      <td>$144.96</td>\n",
       "      <td>$143.78</td>\n",
       "    </tr>\n",
       "  </tbody>\n",
       "</table>\n",
       "</div>"
      ],
      "text/plain": [
       "            Close/Last    Volume      Open      High       Low\n",
       "Date                                                          \n",
       "2017-06-30    $144.02   22986960  $144.45   $144.96   $143.78 "
      ]
     },
     "execution_count": 19,
     "metadata": {},
     "output_type": "execute_result"
    }
   ],
   "source": [
    "df['2017-06-30']\n",
    "# Specific date"
   ]
  },
  {
   "cell_type": "code",
   "execution_count": 14,
   "metadata": {},
   "outputs": [
    {
     "data": {
      "text/html": [
       "<div>\n",
       "<style scoped>\n",
       "    .dataframe tbody tr th:only-of-type {\n",
       "        vertical-align: middle;\n",
       "    }\n",
       "\n",
       "    .dataframe tbody tr th {\n",
       "        vertical-align: top;\n",
       "    }\n",
       "\n",
       "    .dataframe thead th {\n",
       "        text-align: right;\n",
       "    }\n",
       "</style>\n",
       "<table border=\"1\" class=\"dataframe\">\n",
       "  <thead>\n",
       "    <tr style=\"text-align: right;\">\n",
       "      <th></th>\n",
       "      <th>Close/Last</th>\n",
       "      <th>Volume</th>\n",
       "      <th>Open</th>\n",
       "      <th>High</th>\n",
       "      <th>Low</th>\n",
       "    </tr>\n",
       "    <tr>\n",
       "      <th>Date</th>\n",
       "      <th></th>\n",
       "      <th></th>\n",
       "      <th></th>\n",
       "      <th></th>\n",
       "      <th></th>\n",
       "    </tr>\n",
       "  </thead>\n",
       "  <tbody>\n",
       "    <tr>\n",
       "      <th>2020-01-31</th>\n",
       "      <td>$309.51</td>\n",
       "      <td>49897100</td>\n",
       "      <td>$320.93</td>\n",
       "      <td>$322.68</td>\n",
       "      <td>$308.29</td>\n",
       "    </tr>\n",
       "    <tr>\n",
       "      <th>2020-01-30</th>\n",
       "      <td>$323.87</td>\n",
       "      <td>31685810</td>\n",
       "      <td>$320.54</td>\n",
       "      <td>$324.09</td>\n",
       "      <td>$318.75</td>\n",
       "    </tr>\n",
       "    <tr>\n",
       "      <th>2020-01-29</th>\n",
       "      <td>$324.34</td>\n",
       "      <td>54149930</td>\n",
       "      <td>$324.45</td>\n",
       "      <td>$327.85</td>\n",
       "      <td>$321.38</td>\n",
       "    </tr>\n",
       "    <tr>\n",
       "      <th>2020-01-28</th>\n",
       "      <td>$317.69</td>\n",
       "      <td>40558490</td>\n",
       "      <td>$312.60</td>\n",
       "      <td>$318.40</td>\n",
       "      <td>$312.19</td>\n",
       "    </tr>\n",
       "    <tr>\n",
       "      <th>2020-01-27</th>\n",
       "      <td>$308.95</td>\n",
       "      <td>40485010</td>\n",
       "      <td>$310.06</td>\n",
       "      <td>$311.77</td>\n",
       "      <td>$304.88</td>\n",
       "    </tr>\n",
       "    <tr>\n",
       "      <th>2020-01-24</th>\n",
       "      <td>$318.31</td>\n",
       "      <td>36634380</td>\n",
       "      <td>$320.25</td>\n",
       "      <td>$323.33</td>\n",
       "      <td>$317.52</td>\n",
       "    </tr>\n",
       "    <tr>\n",
       "      <th>2020-01-23</th>\n",
       "      <td>$319.23</td>\n",
       "      <td>26117990</td>\n",
       "      <td>$317.92</td>\n",
       "      <td>$319.56</td>\n",
       "      <td>$315.65</td>\n",
       "    </tr>\n",
       "    <tr>\n",
       "      <th>2020-01-22</th>\n",
       "      <td>$317.70</td>\n",
       "      <td>25458120</td>\n",
       "      <td>$318.58</td>\n",
       "      <td>$319.99</td>\n",
       "      <td>$317.31</td>\n",
       "    </tr>\n",
       "    <tr>\n",
       "      <th>2020-01-21</th>\n",
       "      <td>$316.57</td>\n",
       "      <td>27710810</td>\n",
       "      <td>$317.19</td>\n",
       "      <td>$319.02</td>\n",
       "      <td>$316</td>\n",
       "    </tr>\n",
       "    <tr>\n",
       "      <th>2020-01-17</th>\n",
       "      <td>$318.73</td>\n",
       "      <td>34454120</td>\n",
       "      <td>$316.27</td>\n",
       "      <td>$318.74</td>\n",
       "      <td>$315</td>\n",
       "    </tr>\n",
       "    <tr>\n",
       "      <th>2020-01-16</th>\n",
       "      <td>$315.24</td>\n",
       "      <td>27207250</td>\n",
       "      <td>$313.59</td>\n",
       "      <td>$315.70</td>\n",
       "      <td>$312.09</td>\n",
       "    </tr>\n",
       "    <tr>\n",
       "      <th>2020-01-15</th>\n",
       "      <td>$311.34</td>\n",
       "      <td>30480880</td>\n",
       "      <td>$311.85</td>\n",
       "      <td>$315.50</td>\n",
       "      <td>$309.55</td>\n",
       "    </tr>\n",
       "    <tr>\n",
       "      <th>2020-01-14</th>\n",
       "      <td>$312.68</td>\n",
       "      <td>40653460</td>\n",
       "      <td>$316.70</td>\n",
       "      <td>$317.57</td>\n",
       "      <td>$312.17</td>\n",
       "    </tr>\n",
       "    <tr>\n",
       "      <th>2020-01-13</th>\n",
       "      <td>$316.96</td>\n",
       "      <td>30521720</td>\n",
       "      <td>$311.64</td>\n",
       "      <td>$317.07</td>\n",
       "      <td>$311.15</td>\n",
       "    </tr>\n",
       "    <tr>\n",
       "      <th>2020-01-10</th>\n",
       "      <td>$310.33</td>\n",
       "      <td>35217270</td>\n",
       "      <td>$310.60</td>\n",
       "      <td>$312.67</td>\n",
       "      <td>$308.25</td>\n",
       "    </tr>\n",
       "    <tr>\n",
       "      <th>2020-01-09</th>\n",
       "      <td>$309.63</td>\n",
       "      <td>42621540</td>\n",
       "      <td>$307.24</td>\n",
       "      <td>$310.43</td>\n",
       "      <td>$306.20</td>\n",
       "    </tr>\n",
       "    <tr>\n",
       "      <th>2020-01-08</th>\n",
       "      <td>$303.19</td>\n",
       "      <td>33090950</td>\n",
       "      <td>$297.16</td>\n",
       "      <td>$304.44</td>\n",
       "      <td>$297.16</td>\n",
       "    </tr>\n",
       "    <tr>\n",
       "      <th>2020-01-07</th>\n",
       "      <td>$298.39</td>\n",
       "      <td>27877660</td>\n",
       "      <td>$299.84</td>\n",
       "      <td>$300.90</td>\n",
       "      <td>$297.48</td>\n",
       "    </tr>\n",
       "    <tr>\n",
       "      <th>2020-01-06</th>\n",
       "      <td>$299.80</td>\n",
       "      <td>29644640</td>\n",
       "      <td>$293.79</td>\n",
       "      <td>$299.96</td>\n",
       "      <td>$292.75</td>\n",
       "    </tr>\n",
       "    <tr>\n",
       "      <th>2020-01-03</th>\n",
       "      <td>$297.43</td>\n",
       "      <td>36633880</td>\n",
       "      <td>$297.15</td>\n",
       "      <td>$300.58</td>\n",
       "      <td>$296.50</td>\n",
       "    </tr>\n",
       "    <tr>\n",
       "      <th>2020-01-02</th>\n",
       "      <td>$300.35</td>\n",
       "      <td>33911860</td>\n",
       "      <td>$296.24</td>\n",
       "      <td>$300.60</td>\n",
       "      <td>$295.19</td>\n",
       "    </tr>\n",
       "  </tbody>\n",
       "</table>\n",
       "</div>"
      ],
      "text/plain": [
       "            Close/Last    Volume      Open      High       Low\n",
       "Date                                                          \n",
       "2020-01-31    $309.51   49897100  $320.93   $322.68   $308.29 \n",
       "2020-01-30    $323.87   31685810  $320.54   $324.09   $318.75 \n",
       "2020-01-29    $324.34   54149930  $324.45   $327.85   $321.38 \n",
       "2020-01-28    $317.69   40558490  $312.60   $318.40   $312.19 \n",
       "2020-01-27    $308.95   40485010  $310.06   $311.77   $304.88 \n",
       "2020-01-24    $318.31   36634380  $320.25   $323.33   $317.52 \n",
       "2020-01-23    $319.23   26117990  $317.92   $319.56   $315.65 \n",
       "2020-01-22    $317.70   25458120  $318.58   $319.99   $317.31 \n",
       "2020-01-21    $316.57   27710810  $317.19   $319.02      $316 \n",
       "2020-01-17    $318.73   34454120  $316.27   $318.74      $315 \n",
       "2020-01-16    $315.24   27207250  $313.59   $315.70   $312.09 \n",
       "2020-01-15    $311.34   30480880  $311.85   $315.50   $309.55 \n",
       "2020-01-14    $312.68   40653460  $316.70   $317.57   $312.17 \n",
       "2020-01-13    $316.96   30521720  $311.64   $317.07   $311.15 \n",
       "2020-01-10    $310.33   35217270  $310.60   $312.67   $308.25 \n",
       "2020-01-09    $309.63   42621540  $307.24   $310.43   $306.20 \n",
       "2020-01-08    $303.19   33090950  $297.16   $304.44   $297.16 \n",
       "2020-01-07    $298.39   27877660  $299.84   $300.90   $297.48 \n",
       "2020-01-06    $299.80   29644640  $293.79   $299.96   $292.75 \n",
       "2020-01-03    $297.43   36633880  $297.15   $300.58   $296.50 \n",
       "2020-01-02    $300.35   33911860  $296.24   $300.60   $295.19 "
      ]
     },
     "execution_count": 14,
     "metadata": {},
     "output_type": "execute_result"
    }
   ],
   "source": [
    "df[\"2020-01\"]"
   ]
  },
  {
   "cell_type": "code",
   "execution_count": 20,
   "metadata": {},
   "outputs": [
    {
     "data": {
      "text/html": [
       "<div>\n",
       "<style scoped>\n",
       "    .dataframe tbody tr th:only-of-type {\n",
       "        vertical-align: middle;\n",
       "    }\n",
       "\n",
       "    .dataframe tbody tr th {\n",
       "        vertical-align: top;\n",
       "    }\n",
       "\n",
       "    .dataframe thead th {\n",
       "        text-align: right;\n",
       "    }\n",
       "</style>\n",
       "<table border=\"1\" class=\"dataframe\">\n",
       "  <thead>\n",
       "    <tr style=\"text-align: right;\">\n",
       "      <th></th>\n",
       "      <th>Close/Last</th>\n",
       "      <th>Volume</th>\n",
       "      <th>Open</th>\n",
       "      <th>High</th>\n",
       "      <th>Low</th>\n",
       "    </tr>\n",
       "    <tr>\n",
       "      <th>Date</th>\n",
       "      <th></th>\n",
       "      <th></th>\n",
       "      <th></th>\n",
       "      <th></th>\n",
       "      <th></th>\n",
       "    </tr>\n",
       "  </thead>\n",
       "  <tbody>\n",
       "    <tr>\n",
       "      <th>2017-06-30</th>\n",
       "      <td>$144.02</td>\n",
       "      <td>22986960</td>\n",
       "      <td>$144.45</td>\n",
       "      <td>$144.96</td>\n",
       "      <td>$143.78</td>\n",
       "    </tr>\n",
       "    <tr>\n",
       "      <th>2017-06-29</th>\n",
       "      <td>$143.68</td>\n",
       "      <td>31450520</td>\n",
       "      <td>$144.71</td>\n",
       "      <td>$145.13</td>\n",
       "      <td>$142.28</td>\n",
       "    </tr>\n",
       "    <tr>\n",
       "      <th>2017-06-28</th>\n",
       "      <td>$145.83</td>\n",
       "      <td>22052920</td>\n",
       "      <td>$144.49</td>\n",
       "      <td>$146.11</td>\n",
       "      <td>$143.16</td>\n",
       "    </tr>\n",
       "    <tr>\n",
       "      <th>2017-06-27</th>\n",
       "      <td>$143.73</td>\n",
       "      <td>24725210</td>\n",
       "      <td>$145.01</td>\n",
       "      <td>$146.16</td>\n",
       "      <td>$143.62</td>\n",
       "    </tr>\n",
       "    <tr>\n",
       "      <th>2017-06-26</th>\n",
       "      <td>$145.82</td>\n",
       "      <td>25674500</td>\n",
       "      <td>$147.17</td>\n",
       "      <td>$148.28</td>\n",
       "      <td>$145.38</td>\n",
       "    </tr>\n",
       "  </tbody>\n",
       "</table>\n",
       "</div>"
      ],
      "text/plain": [
       "            Close/Last    Volume      Open      High       Low\n",
       "Date                                                          \n",
       "2017-06-30    $144.02   22986960  $144.45   $144.96   $143.78 \n",
       "2017-06-29    $143.68   31450520  $144.71   $145.13   $142.28 \n",
       "2017-06-28    $145.83   22052920  $144.49   $146.11   $143.16 \n",
       "2017-06-27    $143.73   24725210  $145.01   $146.16   $143.62 \n",
       "2017-06-26    $145.82   25674500  $147.17   $148.28   $145.38 "
      ]
     },
     "execution_count": 20,
     "metadata": {},
     "output_type": "execute_result"
    }
   ],
   "source": [
    "df['2017-06'].head()"
   ]
  },
  {
   "cell_type": "markdown",
   "metadata": {},
   "source": [
    "<h2> find the average price of apple stock in 2020 month of january </h2>\n"
   ]
  },
  {
   "cell_type": "code",
   "execution_count": 55,
   "metadata": {},
   "outputs": [
    {
     "data": {
      "text/html": [
       "<div>\n",
       "<style scoped>\n",
       "    .dataframe tbody tr th:only-of-type {\n",
       "        vertical-align: middle;\n",
       "    }\n",
       "\n",
       "    .dataframe tbody tr th {\n",
       "        vertical-align: top;\n",
       "    }\n",
       "\n",
       "    .dataframe thead th {\n",
       "        text-align: right;\n",
       "    }\n",
       "</style>\n",
       "<table border=\"1\" class=\"dataframe\">\n",
       "  <thead>\n",
       "    <tr style=\"text-align: right;\">\n",
       "      <th></th>\n",
       "      <th>Open</th>\n",
       "      <th>High</th>\n",
       "      <th>Low</th>\n",
       "      <th>Close</th>\n",
       "      <th>Adj Close</th>\n",
       "      <th>Volume</th>\n",
       "    </tr>\n",
       "    <tr>\n",
       "      <th>Date</th>\n",
       "      <th></th>\n",
       "      <th></th>\n",
       "      <th></th>\n",
       "      <th></th>\n",
       "      <th></th>\n",
       "      <th></th>\n",
       "    </tr>\n",
       "  </thead>\n",
       "  <tbody>\n",
       "    <tr>\n",
       "      <th>2019-08-23</th>\n",
       "      <td>209.429993</td>\n",
       "      <td>212.050003</td>\n",
       "      <td>201.000000</td>\n",
       "      <td>202.639999</td>\n",
       "      <td>200.649200</td>\n",
       "      <td>46818000</td>\n",
       "    </tr>\n",
       "    <tr>\n",
       "      <th>2019-08-26</th>\n",
       "      <td>205.860001</td>\n",
       "      <td>207.190002</td>\n",
       "      <td>205.059998</td>\n",
       "      <td>206.490005</td>\n",
       "      <td>204.461349</td>\n",
       "      <td>26043600</td>\n",
       "    </tr>\n",
       "    <tr>\n",
       "      <th>2019-08-27</th>\n",
       "      <td>207.860001</td>\n",
       "      <td>208.550003</td>\n",
       "      <td>203.529999</td>\n",
       "      <td>204.160004</td>\n",
       "      <td>202.154251</td>\n",
       "      <td>25873300</td>\n",
       "    </tr>\n",
       "    <tr>\n",
       "      <th>2019-08-28</th>\n",
       "      <td>204.100006</td>\n",
       "      <td>205.720001</td>\n",
       "      <td>203.320007</td>\n",
       "      <td>205.529999</td>\n",
       "      <td>203.510803</td>\n",
       "      <td>15938800</td>\n",
       "    </tr>\n",
       "    <tr>\n",
       "      <th>2019-08-29</th>\n",
       "      <td>208.500000</td>\n",
       "      <td>209.320007</td>\n",
       "      <td>206.660004</td>\n",
       "      <td>209.009995</td>\n",
       "      <td>206.956604</td>\n",
       "      <td>20990500</td>\n",
       "    </tr>\n",
       "    <tr>\n",
       "      <th>...</th>\n",
       "      <td>...</td>\n",
       "      <td>...</td>\n",
       "      <td>...</td>\n",
       "      <td>...</td>\n",
       "      <td>...</td>\n",
       "      <td>...</td>\n",
       "    </tr>\n",
       "    <tr>\n",
       "      <th>2020-08-17</th>\n",
       "      <td>464.250000</td>\n",
       "      <td>464.350006</td>\n",
       "      <td>455.850006</td>\n",
       "      <td>458.429993</td>\n",
       "      <td>458.429993</td>\n",
       "      <td>29890400</td>\n",
       "    </tr>\n",
       "    <tr>\n",
       "      <th>2020-08-18</th>\n",
       "      <td>457.410004</td>\n",
       "      <td>464.000000</td>\n",
       "      <td>456.029999</td>\n",
       "      <td>462.250000</td>\n",
       "      <td>462.250000</td>\n",
       "      <td>26408400</td>\n",
       "    </tr>\n",
       "    <tr>\n",
       "      <th>2020-08-19</th>\n",
       "      <td>463.929993</td>\n",
       "      <td>468.649994</td>\n",
       "      <td>462.440002</td>\n",
       "      <td>462.829987</td>\n",
       "      <td>462.829987</td>\n",
       "      <td>36384500</td>\n",
       "    </tr>\n",
       "    <tr>\n",
       "      <th>2020-08-20</th>\n",
       "      <td>463.000000</td>\n",
       "      <td>473.570007</td>\n",
       "      <td>462.929993</td>\n",
       "      <td>473.100006</td>\n",
       "      <td>473.100006</td>\n",
       "      <td>31726800</td>\n",
       "    </tr>\n",
       "    <tr>\n",
       "      <th>2020-08-21</th>\n",
       "      <td>477.049988</td>\n",
       "      <td>499.470001</td>\n",
       "      <td>477.000000</td>\n",
       "      <td>497.480011</td>\n",
       "      <td>497.480011</td>\n",
       "      <td>84299500</td>\n",
       "    </tr>\n",
       "  </tbody>\n",
       "</table>\n",
       "<p>252 rows × 6 columns</p>\n",
       "</div>"
      ],
      "text/plain": [
       "                  Open        High         Low       Close   Adj Close  \\\n",
       "Date                                                                     \n",
       "2019-08-23  209.429993  212.050003  201.000000  202.639999  200.649200   \n",
       "2019-08-26  205.860001  207.190002  205.059998  206.490005  204.461349   \n",
       "2019-08-27  207.860001  208.550003  203.529999  204.160004  202.154251   \n",
       "2019-08-28  204.100006  205.720001  203.320007  205.529999  203.510803   \n",
       "2019-08-29  208.500000  209.320007  206.660004  209.009995  206.956604   \n",
       "...                ...         ...         ...         ...         ...   \n",
       "2020-08-17  464.250000  464.350006  455.850006  458.429993  458.429993   \n",
       "2020-08-18  457.410004  464.000000  456.029999  462.250000  462.250000   \n",
       "2020-08-19  463.929993  468.649994  462.440002  462.829987  462.829987   \n",
       "2020-08-20  463.000000  473.570007  462.929993  473.100006  473.100006   \n",
       "2020-08-21  477.049988  499.470001  477.000000  497.480011  497.480011   \n",
       "\n",
       "              Volume  \n",
       "Date                  \n",
       "2019-08-23  46818000  \n",
       "2019-08-26  26043600  \n",
       "2019-08-27  25873300  \n",
       "2019-08-28  15938800  \n",
       "2019-08-29  20990500  \n",
       "...              ...  \n",
       "2020-08-17  29890400  \n",
       "2020-08-18  26408400  \n",
       "2020-08-19  36384500  \n",
       "2020-08-20  31726800  \n",
       "2020-08-21  84299500  \n",
       "\n",
       "[252 rows x 6 columns]"
      ]
     },
     "execution_count": 55,
     "metadata": {},
     "output_type": "execute_result"
    }
   ],
   "source": [
    "bf = pd.read_csv(\"AAPL.csv\" , parse_dates = [\"Date\"] , index_col=\"Date\")\n",
    "bf"
   ]
  },
  {
   "cell_type": "code",
   "execution_count": 59,
   "metadata": {},
   "outputs": [
    {
     "data": {
      "text/plain": [
       "206.09500116666663"
      ]
     },
     "execution_count": 59,
     "metadata": {},
     "output_type": "execute_result"
    }
   ],
   "source": [
    "bf['2019-08'].Close.mean()\n"
   ]
  },
  {
   "cell_type": "code",
   "execution_count": 65,
   "metadata": {},
   "outputs": [
    {
     "data": {
      "text/plain": [
       "Index(['Open', 'High', 'Low', 'Close', 'Adj Close', 'Volume'], dtype='object')"
      ]
     },
     "execution_count": 65,
     "metadata": {},
     "output_type": "execute_result"
    }
   ],
   "source": [
    "bf.columns"
   ]
  },
  {
   "cell_type": "code",
   "execution_count": 68,
   "metadata": {},
   "outputs": [
    {
     "data": {
      "text/plain": [
       "206.09500116666663"
      ]
     },
     "execution_count": 68,
     "metadata": {},
     "output_type": "execute_result"
    }
   ],
   "source": [
    "bf['2019-08']['Close'].mean()\n"
   ]
  },
  {
   "cell_type": "code",
   "execution_count": 62,
   "metadata": {
    "scrolled": false
   },
   "outputs": [
    {
     "data": {
      "text/plain": [
       "Index([' Close/Last', ' Volume', ' Open', ' High', ' Low'], dtype='object')"
      ]
     },
     "execution_count": 62,
     "metadata": {},
     "output_type": "execute_result"
    }
   ],
   "source": [
    "df.columns"
   ]
  },
  {
   "cell_type": "code",
   "execution_count": 67,
   "metadata": {
    "scrolled": true
   },
   "outputs": [
    {
     "data": {
      "text/plain": [
       "26429007.0"
      ]
     },
     "execution_count": 67,
     "metadata": {},
     "output_type": "execute_result"
    }
   ],
   "source": [
    "df['2017-12'][' Volume'].mean()"
   ]
  },
  {
   "cell_type": "code",
   "execution_count": 74,
   "metadata": {},
   "outputs": [
    {
     "data": {
      "text/plain": [
       "numpy.int64"
      ]
     },
     "execution_count": 74,
     "metadata": {},
     "output_type": "execute_result"
    }
   ],
   "source": [
    "type(df[' Volume'][0])"
   ]
  },
  {
   "cell_type": "code",
   "execution_count": 72,
   "metadata": {},
   "outputs": [
    {
     "ename": "TypeError",
     "evalue": "Could not convert $169.23 $171.08 $170.60 $170.57 $175.01 $175.01 $174.35 $174.54 $176.42 $173.97 $172.22 $172.27 $171.70 $172.67 $169.37 $169.32 $169.01 $169.64 $169.80 $171.05  to numeric",
     "output_type": "error",
     "traceback": [
      "\u001b[1;31m---------------------------------------------------------------------------\u001b[0m",
      "\u001b[1;31mValueError\u001b[0m                                Traceback (most recent call last)",
      "\u001b[1;32m~\\Anaconda3\\lib\\site-packages\\pandas\\core\\nanops.py\u001b[0m in \u001b[0;36m_ensure_numeric\u001b[1;34m(x)\u001b[0m\n\u001b[0;32m   1302\u001b[0m         \u001b[1;32mtry\u001b[0m\u001b[1;33m:\u001b[0m\u001b[1;33m\u001b[0m\u001b[1;33m\u001b[0m\u001b[0m\n\u001b[1;32m-> 1303\u001b[1;33m             \u001b[0mx\u001b[0m \u001b[1;33m=\u001b[0m \u001b[0mfloat\u001b[0m\u001b[1;33m(\u001b[0m\u001b[0mx\u001b[0m\u001b[1;33m)\u001b[0m\u001b[1;33m\u001b[0m\u001b[1;33m\u001b[0m\u001b[0m\n\u001b[0m\u001b[0;32m   1304\u001b[0m         \u001b[1;32mexcept\u001b[0m \u001b[0mValueError\u001b[0m\u001b[1;33m:\u001b[0m\u001b[1;33m\u001b[0m\u001b[1;33m\u001b[0m\u001b[0m\n",
      "\u001b[1;31mValueError\u001b[0m: could not convert string to float: '$169.23 $171.08 $170.60 $170.57 $175.01 $175.01 $174.35 $174.54 $176.42 $173.97 $172.22 $172.27 $171.70 $172.67 $169.37 $169.32 $169.01 $169.64 $169.80 $171.05 '",
      "\nDuring handling of the above exception, another exception occurred:\n",
      "\u001b[1;31mValueError\u001b[0m                                Traceback (most recent call last)",
      "\u001b[1;32m~\\Anaconda3\\lib\\site-packages\\pandas\\core\\nanops.py\u001b[0m in \u001b[0;36m_ensure_numeric\u001b[1;34m(x)\u001b[0m\n\u001b[0;32m   1306\u001b[0m             \u001b[1;32mtry\u001b[0m\u001b[1;33m:\u001b[0m\u001b[1;33m\u001b[0m\u001b[1;33m\u001b[0m\u001b[0m\n\u001b[1;32m-> 1307\u001b[1;33m                 \u001b[0mx\u001b[0m \u001b[1;33m=\u001b[0m \u001b[0mcomplex\u001b[0m\u001b[1;33m(\u001b[0m\u001b[0mx\u001b[0m\u001b[1;33m)\u001b[0m\u001b[1;33m\u001b[0m\u001b[1;33m\u001b[0m\u001b[0m\n\u001b[0m\u001b[0;32m   1308\u001b[0m             \u001b[1;32mexcept\u001b[0m \u001b[0mValueError\u001b[0m\u001b[1;33m:\u001b[0m\u001b[1;33m\u001b[0m\u001b[1;33m\u001b[0m\u001b[0m\n",
      "\u001b[1;31mValueError\u001b[0m: complex() arg is a malformed string",
      "\nDuring handling of the above exception, another exception occurred:\n",
      "\u001b[1;31mTypeError\u001b[0m                                 Traceback (most recent call last)",
      "\u001b[1;32m<ipython-input-72-7dc09f62c5c6>\u001b[0m in \u001b[0;36m<module>\u001b[1;34m\u001b[0m\n\u001b[1;32m----> 1\u001b[1;33m \u001b[0mdf\u001b[0m\u001b[1;33m[\u001b[0m\u001b[1;34m'2017-12'\u001b[0m\u001b[1;33m]\u001b[0m\u001b[1;33m[\u001b[0m\u001b[1;34m' Close/Last'\u001b[0m\u001b[1;33m]\u001b[0m\u001b[1;33m.\u001b[0m\u001b[0mmean\u001b[0m\u001b[1;33m(\u001b[0m\u001b[1;33m)\u001b[0m\u001b[1;33m\u001b[0m\u001b[1;33m\u001b[0m\u001b[0m\n\u001b[0m",
      "\u001b[1;32m~\\Anaconda3\\lib\\site-packages\\pandas\\core\\generic.py\u001b[0m in \u001b[0;36mstat_func\u001b[1;34m(self, axis, skipna, level, numeric_only, **kwargs)\u001b[0m\n\u001b[0;32m  11213\u001b[0m             \u001b[1;32mreturn\u001b[0m \u001b[0mself\u001b[0m\u001b[1;33m.\u001b[0m\u001b[0m_agg_by_level\u001b[0m\u001b[1;33m(\u001b[0m\u001b[0mname\u001b[0m\u001b[1;33m,\u001b[0m \u001b[0maxis\u001b[0m\u001b[1;33m=\u001b[0m\u001b[0maxis\u001b[0m\u001b[1;33m,\u001b[0m \u001b[0mlevel\u001b[0m\u001b[1;33m=\u001b[0m\u001b[0mlevel\u001b[0m\u001b[1;33m,\u001b[0m \u001b[0mskipna\u001b[0m\u001b[1;33m=\u001b[0m\u001b[0mskipna\u001b[0m\u001b[1;33m)\u001b[0m\u001b[1;33m\u001b[0m\u001b[1;33m\u001b[0m\u001b[0m\n\u001b[0;32m  11214\u001b[0m         return self._reduce(\n\u001b[1;32m> 11215\u001b[1;33m             \u001b[0mf\u001b[0m\u001b[1;33m,\u001b[0m \u001b[0mname\u001b[0m\u001b[1;33m,\u001b[0m \u001b[0maxis\u001b[0m\u001b[1;33m=\u001b[0m\u001b[0maxis\u001b[0m\u001b[1;33m,\u001b[0m \u001b[0mskipna\u001b[0m\u001b[1;33m=\u001b[0m\u001b[0mskipna\u001b[0m\u001b[1;33m,\u001b[0m \u001b[0mnumeric_only\u001b[0m\u001b[1;33m=\u001b[0m\u001b[0mnumeric_only\u001b[0m\u001b[1;33m\u001b[0m\u001b[1;33m\u001b[0m\u001b[0m\n\u001b[0m\u001b[0;32m  11216\u001b[0m         )\n\u001b[0;32m  11217\u001b[0m \u001b[1;33m\u001b[0m\u001b[0m\n",
      "\u001b[1;32m~\\Anaconda3\\lib\\site-packages\\pandas\\core\\series.py\u001b[0m in \u001b[0;36m_reduce\u001b[1;34m(self, op, name, axis, skipna, numeric_only, filter_type, **kwds)\u001b[0m\n\u001b[0;32m   3889\u001b[0m                 )\n\u001b[0;32m   3890\u001b[0m             \u001b[1;32mwith\u001b[0m \u001b[0mnp\u001b[0m\u001b[1;33m.\u001b[0m\u001b[0merrstate\u001b[0m\u001b[1;33m(\u001b[0m\u001b[0mall\u001b[0m\u001b[1;33m=\u001b[0m\u001b[1;34m\"ignore\"\u001b[0m\u001b[1;33m)\u001b[0m\u001b[1;33m:\u001b[0m\u001b[1;33m\u001b[0m\u001b[1;33m\u001b[0m\u001b[0m\n\u001b[1;32m-> 3891\u001b[1;33m                 \u001b[1;32mreturn\u001b[0m \u001b[0mop\u001b[0m\u001b[1;33m(\u001b[0m\u001b[0mdelegate\u001b[0m\u001b[1;33m,\u001b[0m \u001b[0mskipna\u001b[0m\u001b[1;33m=\u001b[0m\u001b[0mskipna\u001b[0m\u001b[1;33m,\u001b[0m \u001b[1;33m**\u001b[0m\u001b[0mkwds\u001b[0m\u001b[1;33m)\u001b[0m\u001b[1;33m\u001b[0m\u001b[1;33m\u001b[0m\u001b[0m\n\u001b[0m\u001b[0;32m   3892\u001b[0m \u001b[1;33m\u001b[0m\u001b[0m\n\u001b[0;32m   3893\u001b[0m         \u001b[1;31m# TODO(EA) dispatch to Index\u001b[0m\u001b[1;33m\u001b[0m\u001b[1;33m\u001b[0m\u001b[1;33m\u001b[0m\u001b[0m\n",
      "\u001b[1;32m~\\Anaconda3\\lib\\site-packages\\pandas\\core\\nanops.py\u001b[0m in \u001b[0;36m_f\u001b[1;34m(*args, **kwargs)\u001b[0m\n\u001b[0;32m     67\u001b[0m             \u001b[1;32mtry\u001b[0m\u001b[1;33m:\u001b[0m\u001b[1;33m\u001b[0m\u001b[1;33m\u001b[0m\u001b[0m\n\u001b[0;32m     68\u001b[0m                 \u001b[1;32mwith\u001b[0m \u001b[0mnp\u001b[0m\u001b[1;33m.\u001b[0m\u001b[0merrstate\u001b[0m\u001b[1;33m(\u001b[0m\u001b[0minvalid\u001b[0m\u001b[1;33m=\u001b[0m\u001b[1;34m\"ignore\"\u001b[0m\u001b[1;33m)\u001b[0m\u001b[1;33m:\u001b[0m\u001b[1;33m\u001b[0m\u001b[1;33m\u001b[0m\u001b[0m\n\u001b[1;32m---> 69\u001b[1;33m                     \u001b[1;32mreturn\u001b[0m \u001b[0mf\u001b[0m\u001b[1;33m(\u001b[0m\u001b[1;33m*\u001b[0m\u001b[0margs\u001b[0m\u001b[1;33m,\u001b[0m \u001b[1;33m**\u001b[0m\u001b[0mkwargs\u001b[0m\u001b[1;33m)\u001b[0m\u001b[1;33m\u001b[0m\u001b[1;33m\u001b[0m\u001b[0m\n\u001b[0m\u001b[0;32m     70\u001b[0m             \u001b[1;32mexcept\u001b[0m \u001b[0mValueError\u001b[0m \u001b[1;32mas\u001b[0m \u001b[0me\u001b[0m\u001b[1;33m:\u001b[0m\u001b[1;33m\u001b[0m\u001b[1;33m\u001b[0m\u001b[0m\n\u001b[0;32m     71\u001b[0m                 \u001b[1;31m# we want to transform an object array\u001b[0m\u001b[1;33m\u001b[0m\u001b[1;33m\u001b[0m\u001b[1;33m\u001b[0m\u001b[0m\n",
      "\u001b[1;32m~\\Anaconda3\\lib\\site-packages\\pandas\\core\\nanops.py\u001b[0m in \u001b[0;36mf\u001b[1;34m(values, axis, skipna, **kwds)\u001b[0m\n\u001b[0;32m    123\u001b[0m                     \u001b[0mresult\u001b[0m \u001b[1;33m=\u001b[0m \u001b[0malt\u001b[0m\u001b[1;33m(\u001b[0m\u001b[0mvalues\u001b[0m\u001b[1;33m,\u001b[0m \u001b[0maxis\u001b[0m\u001b[1;33m=\u001b[0m\u001b[0maxis\u001b[0m\u001b[1;33m,\u001b[0m \u001b[0mskipna\u001b[0m\u001b[1;33m=\u001b[0m\u001b[0mskipna\u001b[0m\u001b[1;33m,\u001b[0m \u001b[1;33m**\u001b[0m\u001b[0mkwds\u001b[0m\u001b[1;33m)\u001b[0m\u001b[1;33m\u001b[0m\u001b[1;33m\u001b[0m\u001b[0m\n\u001b[0;32m    124\u001b[0m             \u001b[1;32melse\u001b[0m\u001b[1;33m:\u001b[0m\u001b[1;33m\u001b[0m\u001b[1;33m\u001b[0m\u001b[0m\n\u001b[1;32m--> 125\u001b[1;33m                 \u001b[0mresult\u001b[0m \u001b[1;33m=\u001b[0m \u001b[0malt\u001b[0m\u001b[1;33m(\u001b[0m\u001b[0mvalues\u001b[0m\u001b[1;33m,\u001b[0m \u001b[0maxis\u001b[0m\u001b[1;33m=\u001b[0m\u001b[0maxis\u001b[0m\u001b[1;33m,\u001b[0m \u001b[0mskipna\u001b[0m\u001b[1;33m=\u001b[0m\u001b[0mskipna\u001b[0m\u001b[1;33m,\u001b[0m \u001b[1;33m**\u001b[0m\u001b[0mkwds\u001b[0m\u001b[1;33m)\u001b[0m\u001b[1;33m\u001b[0m\u001b[1;33m\u001b[0m\u001b[0m\n\u001b[0m\u001b[0;32m    126\u001b[0m \u001b[1;33m\u001b[0m\u001b[0m\n\u001b[0;32m    127\u001b[0m             \u001b[1;32mreturn\u001b[0m \u001b[0mresult\u001b[0m\u001b[1;33m\u001b[0m\u001b[1;33m\u001b[0m\u001b[0m\n",
      "\u001b[1;32m~\\Anaconda3\\lib\\site-packages\\pandas\\core\\nanops.py\u001b[0m in \u001b[0;36mnanmean\u001b[1;34m(values, axis, skipna, mask)\u001b[0m\n\u001b[0;32m    540\u001b[0m         \u001b[0mdtype_count\u001b[0m \u001b[1;33m=\u001b[0m \u001b[0mdtype\u001b[0m\u001b[1;33m\u001b[0m\u001b[1;33m\u001b[0m\u001b[0m\n\u001b[0;32m    541\u001b[0m     \u001b[0mcount\u001b[0m \u001b[1;33m=\u001b[0m \u001b[0m_get_counts\u001b[0m\u001b[1;33m(\u001b[0m\u001b[0mvalues\u001b[0m\u001b[1;33m.\u001b[0m\u001b[0mshape\u001b[0m\u001b[1;33m,\u001b[0m \u001b[0mmask\u001b[0m\u001b[1;33m,\u001b[0m \u001b[0maxis\u001b[0m\u001b[1;33m,\u001b[0m \u001b[0mdtype\u001b[0m\u001b[1;33m=\u001b[0m\u001b[0mdtype_count\u001b[0m\u001b[1;33m)\u001b[0m\u001b[1;33m\u001b[0m\u001b[1;33m\u001b[0m\u001b[0m\n\u001b[1;32m--> 542\u001b[1;33m     \u001b[0mthe_sum\u001b[0m \u001b[1;33m=\u001b[0m \u001b[0m_ensure_numeric\u001b[0m\u001b[1;33m(\u001b[0m\u001b[0mvalues\u001b[0m\u001b[1;33m.\u001b[0m\u001b[0msum\u001b[0m\u001b[1;33m(\u001b[0m\u001b[0maxis\u001b[0m\u001b[1;33m,\u001b[0m \u001b[0mdtype\u001b[0m\u001b[1;33m=\u001b[0m\u001b[0mdtype_sum\u001b[0m\u001b[1;33m)\u001b[0m\u001b[1;33m)\u001b[0m\u001b[1;33m\u001b[0m\u001b[1;33m\u001b[0m\u001b[0m\n\u001b[0m\u001b[0;32m    543\u001b[0m \u001b[1;33m\u001b[0m\u001b[0m\n\u001b[0;32m    544\u001b[0m     \u001b[1;32mif\u001b[0m \u001b[0maxis\u001b[0m \u001b[1;32mis\u001b[0m \u001b[1;32mnot\u001b[0m \u001b[1;32mNone\u001b[0m \u001b[1;32mand\u001b[0m \u001b[0mgetattr\u001b[0m\u001b[1;33m(\u001b[0m\u001b[0mthe_sum\u001b[0m\u001b[1;33m,\u001b[0m \u001b[1;34m\"ndim\"\u001b[0m\u001b[1;33m,\u001b[0m \u001b[1;32mFalse\u001b[0m\u001b[1;33m)\u001b[0m\u001b[1;33m:\u001b[0m\u001b[1;33m\u001b[0m\u001b[1;33m\u001b[0m\u001b[0m\n",
      "\u001b[1;32m~\\Anaconda3\\lib\\site-packages\\pandas\\core\\nanops.py\u001b[0m in \u001b[0;36m_ensure_numeric\u001b[1;34m(x)\u001b[0m\n\u001b[0;32m   1308\u001b[0m             \u001b[1;32mexcept\u001b[0m \u001b[0mValueError\u001b[0m\u001b[1;33m:\u001b[0m\u001b[1;33m\u001b[0m\u001b[1;33m\u001b[0m\u001b[0m\n\u001b[0;32m   1309\u001b[0m                 \u001b[1;31m# e.g. \"foo\"\u001b[0m\u001b[1;33m\u001b[0m\u001b[1;33m\u001b[0m\u001b[1;33m\u001b[0m\u001b[0m\n\u001b[1;32m-> 1310\u001b[1;33m                 \u001b[1;32mraise\u001b[0m \u001b[0mTypeError\u001b[0m\u001b[1;33m(\u001b[0m\u001b[1;34mf\"Could not convert {x} to numeric\"\u001b[0m\u001b[1;33m)\u001b[0m\u001b[1;33m\u001b[0m\u001b[1;33m\u001b[0m\u001b[0m\n\u001b[0m\u001b[0;32m   1311\u001b[0m     \u001b[1;32mreturn\u001b[0m \u001b[0mx\u001b[0m\u001b[1;33m\u001b[0m\u001b[1;33m\u001b[0m\u001b[0m\n\u001b[0;32m   1312\u001b[0m \u001b[1;33m\u001b[0m\u001b[0m\n",
      "\u001b[1;31mTypeError\u001b[0m: Could not convert $169.23 $171.08 $170.60 $170.57 $175.01 $175.01 $174.35 $174.54 $176.42 $173.97 $172.22 $172.27 $171.70 $172.67 $169.37 $169.32 $169.01 $169.64 $169.80 $171.05  to numeric"
     ]
    }
   ],
   "source": [
    "df['2017-12'][' Close/Last'].mean()"
   ]
  },
  {
   "cell_type": "code",
   "execution_count": 71,
   "metadata": {},
   "outputs": [
    {
     "data": {
      "text/plain": [
       "str"
      ]
     },
     "execution_count": 71,
     "metadata": {},
     "output_type": "execute_result"
    }
   ],
   "source": [
    "type(df[' Close/Last'][0])"
   ]
  },
  {
   "cell_type": "code",
   "execution_count": 28,
   "metadata": {},
   "outputs": [
    {
     "data": {
      "text/html": [
       "<div>\n",
       "<style scoped>\n",
       "    .dataframe tbody tr th:only-of-type {\n",
       "        vertical-align: middle;\n",
       "    }\n",
       "\n",
       "    .dataframe tbody tr th {\n",
       "        vertical-align: top;\n",
       "    }\n",
       "\n",
       "    .dataframe thead th {\n",
       "        text-align: right;\n",
       "    }\n",
       "</style>\n",
       "<table border=\"1\" class=\"dataframe\">\n",
       "  <thead>\n",
       "    <tr style=\"text-align: right;\">\n",
       "      <th></th>\n",
       "      <th>Close/Last</th>\n",
       "      <th>Volume</th>\n",
       "      <th>Open</th>\n",
       "      <th>High</th>\n",
       "      <th>Low</th>\n",
       "    </tr>\n",
       "    <tr>\n",
       "      <th>Date</th>\n",
       "      <th></th>\n",
       "      <th></th>\n",
       "      <th></th>\n",
       "      <th></th>\n",
       "      <th></th>\n",
       "    </tr>\n",
       "  </thead>\n",
       "  <tbody>\n",
       "    <tr>\n",
       "      <th>2017-12-29</th>\n",
       "      <td>$169.23</td>\n",
       "      <td>25938760</td>\n",
       "      <td>$170.52</td>\n",
       "      <td>$170.59</td>\n",
       "      <td>$169.22</td>\n",
       "    </tr>\n",
       "    <tr>\n",
       "      <th>2017-12-28</th>\n",
       "      <td>$171.08</td>\n",
       "      <td>16412270</td>\n",
       "      <td>$171</td>\n",
       "      <td>$171.85</td>\n",
       "      <td>$170.48</td>\n",
       "    </tr>\n",
       "    <tr>\n",
       "      <th>2017-12-27</th>\n",
       "      <td>$170.60</td>\n",
       "      <td>21477380</td>\n",
       "      <td>$170.10</td>\n",
       "      <td>$170.78</td>\n",
       "      <td>$169.71</td>\n",
       "    </tr>\n",
       "    <tr>\n",
       "      <th>2017-12-26</th>\n",
       "      <td>$170.57</td>\n",
       "      <td>33113340</td>\n",
       "      <td>$170.80</td>\n",
       "      <td>$171.47</td>\n",
       "      <td>$169.68</td>\n",
       "    </tr>\n",
       "    <tr>\n",
       "      <th>2017-12-22</th>\n",
       "      <td>$175.01</td>\n",
       "      <td>16339690</td>\n",
       "      <td>$174.68</td>\n",
       "      <td>$175.42</td>\n",
       "      <td>$174.50</td>\n",
       "    </tr>\n",
       "    <tr>\n",
       "      <th>...</th>\n",
       "      <td>...</td>\n",
       "      <td>...</td>\n",
       "      <td>...</td>\n",
       "      <td>...</td>\n",
       "      <td>...</td>\n",
       "    </tr>\n",
       "    <tr>\n",
       "      <th>2017-01-09</th>\n",
       "      <td>$118.99</td>\n",
       "      <td>33420290</td>\n",
       "      <td>$117.95</td>\n",
       "      <td>$119.43</td>\n",
       "      <td>$117.94</td>\n",
       "    </tr>\n",
       "    <tr>\n",
       "      <th>2017-01-06</th>\n",
       "      <td>$117.91</td>\n",
       "      <td>31714820</td>\n",
       "      <td>$116.78</td>\n",
       "      <td>$118.16</td>\n",
       "      <td>$116.47</td>\n",
       "    </tr>\n",
       "    <tr>\n",
       "      <th>2017-01-05</th>\n",
       "      <td>$116.61</td>\n",
       "      <td>22115100</td>\n",
       "      <td>$115.92</td>\n",
       "      <td>$116.86</td>\n",
       "      <td>$115.81</td>\n",
       "    </tr>\n",
       "    <tr>\n",
       "      <th>2017-01-04</th>\n",
       "      <td>$116.02</td>\n",
       "      <td>21081620</td>\n",
       "      <td>$115.85</td>\n",
       "      <td>$116.51</td>\n",
       "      <td>$115.75</td>\n",
       "    </tr>\n",
       "    <tr>\n",
       "      <th>2017-01-03</th>\n",
       "      <td>$116.15</td>\n",
       "      <td>28769220</td>\n",
       "      <td>$115.80</td>\n",
       "      <td>$116.33</td>\n",
       "      <td>$114.76</td>\n",
       "    </tr>\n",
       "  </tbody>\n",
       "</table>\n",
       "<p>251 rows × 5 columns</p>\n",
       "</div>"
      ],
      "text/plain": [
       "            Close/Last    Volume      Open      High       Low\n",
       "Date                                                          \n",
       "2017-12-29    $169.23   25938760  $170.52   $170.59   $169.22 \n",
       "2017-12-28    $171.08   16412270     $171   $171.85   $170.48 \n",
       "2017-12-27    $170.60   21477380  $170.10   $170.78   $169.71 \n",
       "2017-12-26    $170.57   33113340  $170.80   $171.47   $169.68 \n",
       "2017-12-22    $175.01   16339690  $174.68   $175.42   $174.50 \n",
       "...                ...       ...       ...       ...       ...\n",
       "2017-01-09    $118.99   33420290  $117.95   $119.43   $117.94 \n",
       "2017-01-06    $117.91   31714820  $116.78   $118.16   $116.47 \n",
       "2017-01-05    $116.61   22115100  $115.92   $116.86   $115.81 \n",
       "2017-01-04    $116.02   21081620  $115.85   $116.51   $115.75 \n",
       "2017-01-03    $116.15   28769220  $115.80   $116.33   $114.76 \n",
       "\n",
       "[251 rows x 5 columns]"
      ]
     },
     "execution_count": 28,
     "metadata": {},
     "output_type": "execute_result"
    }
   ],
   "source": [
    "df['2017']"
   ]
  },
  {
   "cell_type": "code",
   "execution_count": 29,
   "metadata": {},
   "outputs": [
    {
     "data": {
      "text/html": [
       "<div>\n",
       "<style scoped>\n",
       "    .dataframe tbody tr th:only-of-type {\n",
       "        vertical-align: middle;\n",
       "    }\n",
       "\n",
       "    .dataframe tbody tr th {\n",
       "        vertical-align: top;\n",
       "    }\n",
       "\n",
       "    .dataframe thead th {\n",
       "        text-align: right;\n",
       "    }\n",
       "</style>\n",
       "<table border=\"1\" class=\"dataframe\">\n",
       "  <thead>\n",
       "    <tr style=\"text-align: right;\">\n",
       "      <th></th>\n",
       "      <th>Close/Last</th>\n",
       "      <th>Volume</th>\n",
       "      <th>Open</th>\n",
       "      <th>High</th>\n",
       "      <th>Low</th>\n",
       "    </tr>\n",
       "    <tr>\n",
       "      <th>Date</th>\n",
       "      <th></th>\n",
       "      <th></th>\n",
       "      <th></th>\n",
       "      <th></th>\n",
       "      <th></th>\n",
       "    </tr>\n",
       "  </thead>\n",
       "  <tbody>\n",
       "    <tr>\n",
       "      <th>2017-12-29</th>\n",
       "      <td>$169.23</td>\n",
       "      <td>25938760</td>\n",
       "      <td>$170.52</td>\n",
       "      <td>$170.59</td>\n",
       "      <td>$169.22</td>\n",
       "    </tr>\n",
       "    <tr>\n",
       "      <th>2017-12-28</th>\n",
       "      <td>$171.08</td>\n",
       "      <td>16412270</td>\n",
       "      <td>$171</td>\n",
       "      <td>$171.85</td>\n",
       "      <td>$170.48</td>\n",
       "    </tr>\n",
       "  </tbody>\n",
       "</table>\n",
       "</div>"
      ],
      "text/plain": [
       "            Close/Last    Volume      Open      High       Low\n",
       "Date                                                          \n",
       "2017-12-29    $169.23   25938760  $170.52   $170.59   $169.22 \n",
       "2017-12-28    $171.08   16412270     $171   $171.85   $170.48 "
      ]
     },
     "execution_count": 29,
     "metadata": {},
     "output_type": "execute_result"
    }
   ],
   "source": [
    "df['2017'].head(2)\n"
   ]
  },
  {
   "cell_type": "markdown",
   "metadata": {},
   "source": [
    "\n",
    "<h2>Select Date Range</h2>"
   ]
  },
  {
   "cell_type": "code",
   "execution_count": 34,
   "metadata": {},
   "outputs": [
    {
     "data": {
      "text/html": [
       "<div>\n",
       "<style scoped>\n",
       "    .dataframe tbody tr th:only-of-type {\n",
       "        vertical-align: middle;\n",
       "    }\n",
       "\n",
       "    .dataframe tbody tr th {\n",
       "        vertical-align: top;\n",
       "    }\n",
       "\n",
       "    .dataframe thead th {\n",
       "        text-align: right;\n",
       "    }\n",
       "</style>\n",
       "<table border=\"1\" class=\"dataframe\">\n",
       "  <thead>\n",
       "    <tr style=\"text-align: right;\">\n",
       "      <th></th>\n",
       "      <th>Close/Last</th>\n",
       "      <th>Volume</th>\n",
       "      <th>Open</th>\n",
       "      <th>High</th>\n",
       "      <th>Low</th>\n",
       "    </tr>\n",
       "    <tr>\n",
       "      <th>Date</th>\n",
       "      <th></th>\n",
       "      <th></th>\n",
       "      <th></th>\n",
       "      <th></th>\n",
       "      <th></th>\n",
       "    </tr>\n",
       "  </thead>\n",
       "  <tbody>\n",
       "    <tr>\n",
       "      <th>2017-01-06</th>\n",
       "      <td>$117.91</td>\n",
       "      <td>31714820</td>\n",
       "      <td>$116.78</td>\n",
       "      <td>$118.16</td>\n",
       "      <td>$116.47</td>\n",
       "    </tr>\n",
       "    <tr>\n",
       "      <th>2017-01-05</th>\n",
       "      <td>$116.61</td>\n",
       "      <td>22115100</td>\n",
       "      <td>$115.92</td>\n",
       "      <td>$116.86</td>\n",
       "      <td>$115.81</td>\n",
       "    </tr>\n",
       "    <tr>\n",
       "      <th>2017-01-04</th>\n",
       "      <td>$116.02</td>\n",
       "      <td>21081620</td>\n",
       "      <td>$115.85</td>\n",
       "      <td>$116.51</td>\n",
       "      <td>$115.75</td>\n",
       "    </tr>\n",
       "    <tr>\n",
       "      <th>2017-01-03</th>\n",
       "      <td>$116.15</td>\n",
       "      <td>28769220</td>\n",
       "      <td>$115.80</td>\n",
       "      <td>$116.33</td>\n",
       "      <td>$114.76</td>\n",
       "    </tr>\n",
       "  </tbody>\n",
       "</table>\n",
       "</div>"
      ],
      "text/plain": [
       "            Close/Last    Volume      Open      High       Low\n",
       "Date                                                          \n",
       "2017-01-06    $117.91   31714820  $116.78   $118.16   $116.47 \n",
       "2017-01-05    $116.61   22115100  $115.92   $116.86   $115.81 \n",
       "2017-01-04    $116.02   21081620  $115.85   $116.51   $115.75 \n",
       "2017-01-03    $116.15   28769220  $115.80   $116.33   $114.76 "
      ]
     },
     "execution_count": 34,
     "metadata": {},
     "output_type": "execute_result"
    }
   ],
   "source": [
    "df['2017-01-08':'2017-01-03']\n"
   ]
  },
  {
   "cell_type": "code",
   "execution_count": 36,
   "metadata": {},
   "outputs": [
    {
     "data": {
      "text/html": [
       "<div>\n",
       "<style scoped>\n",
       "    .dataframe tbody tr th:only-of-type {\n",
       "        vertical-align: middle;\n",
       "    }\n",
       "\n",
       "    .dataframe tbody tr th {\n",
       "        vertical-align: top;\n",
       "    }\n",
       "\n",
       "    .dataframe thead th {\n",
       "        text-align: right;\n",
       "    }\n",
       "</style>\n",
       "<table border=\"1\" class=\"dataframe\">\n",
       "  <thead>\n",
       "    <tr style=\"text-align: right;\">\n",
       "      <th></th>\n",
       "      <th>Close/Last</th>\n",
       "      <th>Volume</th>\n",
       "      <th>Open</th>\n",
       "      <th>High</th>\n",
       "      <th>Low</th>\n",
       "    </tr>\n",
       "    <tr>\n",
       "      <th>Date</th>\n",
       "      <th></th>\n",
       "      <th></th>\n",
       "      <th></th>\n",
       "      <th></th>\n",
       "      <th></th>\n",
       "    </tr>\n",
       "  </thead>\n",
       "  <tbody>\n",
       "    <tr>\n",
       "      <th>2017-02-08</th>\n",
       "      <td>$132.04</td>\n",
       "      <td>22941650</td>\n",
       "      <td>$131.35</td>\n",
       "      <td>$132.22</td>\n",
       "      <td>$131.22</td>\n",
       "    </tr>\n",
       "    <tr>\n",
       "      <th>2017-02-07</th>\n",
       "      <td>$131.53</td>\n",
       "      <td>38158410</td>\n",
       "      <td>$130.54</td>\n",
       "      <td>$132.09</td>\n",
       "      <td>$130.45</td>\n",
       "    </tr>\n",
       "    <tr>\n",
       "      <th>2017-02-06</th>\n",
       "      <td>$130.29</td>\n",
       "      <td>26784530</td>\n",
       "      <td>$129.13</td>\n",
       "      <td>$130.50</td>\n",
       "      <td>$128.90</td>\n",
       "    </tr>\n",
       "    <tr>\n",
       "      <th>2017-02-03</th>\n",
       "      <td>$129.08</td>\n",
       "      <td>24460160</td>\n",
       "      <td>$128.31</td>\n",
       "      <td>$129.19</td>\n",
       "      <td>$128.16</td>\n",
       "    </tr>\n",
       "  </tbody>\n",
       "</table>\n",
       "</div>"
      ],
      "text/plain": [
       "            Close/Last    Volume      Open      High       Low\n",
       "Date                                                          \n",
       "2017-02-08    $132.04   22941650  $131.35   $132.22   $131.22 \n",
       "2017-02-07    $131.53   38158410  $130.54   $132.09   $130.45 \n",
       "2017-02-06    $130.29   26784530  $129.13   $130.50   $128.90 \n",
       "2017-02-03    $129.08   24460160  $128.31   $129.19   $128.16 "
      ]
     },
     "execution_count": 36,
     "metadata": {},
     "output_type": "execute_result"
    }
   ],
   "source": [
    "df['2017-02-08':'2017-02-03']"
   ]
  },
  {
   "cell_type": "code",
   "execution_count": 37,
   "metadata": {},
   "outputs": [
    {
     "data": {
      "text/html": [
       "<div>\n",
       "<style scoped>\n",
       "    .dataframe tbody tr th:only-of-type {\n",
       "        vertical-align: middle;\n",
       "    }\n",
       "\n",
       "    .dataframe tbody tr th {\n",
       "        vertical-align: top;\n",
       "    }\n",
       "\n",
       "    .dataframe thead th {\n",
       "        text-align: right;\n",
       "    }\n",
       "</style>\n",
       "<table border=\"1\" class=\"dataframe\">\n",
       "  <thead>\n",
       "    <tr style=\"text-align: right;\">\n",
       "      <th></th>\n",
       "      <th>Close/Last</th>\n",
       "      <th>Volume</th>\n",
       "      <th>Open</th>\n",
       "      <th>High</th>\n",
       "      <th>Low</th>\n",
       "    </tr>\n",
       "    <tr>\n",
       "      <th>Date</th>\n",
       "      <th></th>\n",
       "      <th></th>\n",
       "      <th></th>\n",
       "      <th></th>\n",
       "      <th></th>\n",
       "    </tr>\n",
       "  </thead>\n",
       "  <tbody>\n",
       "    <tr>\n",
       "      <th>2019-12-31</th>\n",
       "      <td>$293.65</td>\n",
       "      <td>25247630</td>\n",
       "      <td>$289.93</td>\n",
       "      <td>$293.68</td>\n",
       "      <td>$289.52</td>\n",
       "    </tr>\n",
       "    <tr>\n",
       "      <th>2019-12-30</th>\n",
       "      <td>$291.52</td>\n",
       "      <td>36059610</td>\n",
       "      <td>$289.46</td>\n",
       "      <td>$292.69</td>\n",
       "      <td>$285.22</td>\n",
       "    </tr>\n",
       "    <tr>\n",
       "      <th>2019-12-27</th>\n",
       "      <td>$289.80</td>\n",
       "      <td>36592940</td>\n",
       "      <td>$291.12</td>\n",
       "      <td>$293.97</td>\n",
       "      <td>$288.12</td>\n",
       "    </tr>\n",
       "    <tr>\n",
       "      <th>2019-12-26</th>\n",
       "      <td>$289.91</td>\n",
       "      <td>23334000</td>\n",
       "      <td>$284.82</td>\n",
       "      <td>$289.98</td>\n",
       "      <td>$284.70</td>\n",
       "    </tr>\n",
       "    <tr>\n",
       "      <th>2019-12-24</th>\n",
       "      <td>$284.27</td>\n",
       "      <td>12119710</td>\n",
       "      <td>$284.69</td>\n",
       "      <td>$284.89</td>\n",
       "      <td>$282.92</td>\n",
       "    </tr>\n",
       "    <tr>\n",
       "      <th>...</th>\n",
       "      <td>...</td>\n",
       "      <td>...</td>\n",
       "      <td>...</td>\n",
       "      <td>...</td>\n",
       "      <td>...</td>\n",
       "    </tr>\n",
       "    <tr>\n",
       "      <th>2017-01-09</th>\n",
       "      <td>$118.99</td>\n",
       "      <td>33420290</td>\n",
       "      <td>$117.95</td>\n",
       "      <td>$119.43</td>\n",
       "      <td>$117.94</td>\n",
       "    </tr>\n",
       "    <tr>\n",
       "      <th>2017-01-06</th>\n",
       "      <td>$117.91</td>\n",
       "      <td>31714820</td>\n",
       "      <td>$116.78</td>\n",
       "      <td>$118.16</td>\n",
       "      <td>$116.47</td>\n",
       "    </tr>\n",
       "    <tr>\n",
       "      <th>2017-01-05</th>\n",
       "      <td>$116.61</td>\n",
       "      <td>22115100</td>\n",
       "      <td>$115.92</td>\n",
       "      <td>$116.86</td>\n",
       "      <td>$115.81</td>\n",
       "    </tr>\n",
       "    <tr>\n",
       "      <th>2017-01-04</th>\n",
       "      <td>$116.02</td>\n",
       "      <td>21081620</td>\n",
       "      <td>$115.85</td>\n",
       "      <td>$116.51</td>\n",
       "      <td>$115.75</td>\n",
       "    </tr>\n",
       "    <tr>\n",
       "      <th>2017-01-03</th>\n",
       "      <td>$116.15</td>\n",
       "      <td>28769220</td>\n",
       "      <td>$115.80</td>\n",
       "      <td>$116.33</td>\n",
       "      <td>$114.76</td>\n",
       "    </tr>\n",
       "  </tbody>\n",
       "</table>\n",
       "<p>754 rows × 5 columns</p>\n",
       "</div>"
      ],
      "text/plain": [
       "            Close/Last    Volume      Open      High       Low\n",
       "Date                                                          \n",
       "2019-12-31    $293.65   25247630  $289.93   $293.68   $289.52 \n",
       "2019-12-30    $291.52   36059610  $289.46   $292.69   $285.22 \n",
       "2019-12-27    $289.80   36592940  $291.12   $293.97   $288.12 \n",
       "2019-12-26    $289.91   23334000  $284.82   $289.98   $284.70 \n",
       "2019-12-24    $284.27   12119710  $284.69   $284.89   $282.92 \n",
       "...                ...       ...       ...       ...       ...\n",
       "2017-01-09    $118.99   33420290  $117.95   $119.43   $117.94 \n",
       "2017-01-06    $117.91   31714820  $116.78   $118.16   $116.47 \n",
       "2017-01-05    $116.61   22115100  $115.92   $116.86   $115.81 \n",
       "2017-01-04    $116.02   21081620  $115.85   $116.51   $115.75 \n",
       "2017-01-03    $116.15   28769220  $115.80   $116.33   $114.76 \n",
       "\n",
       "[754 rows x 5 columns]"
      ]
     },
     "execution_count": 37,
     "metadata": {},
     "output_type": "execute_result"
    }
   ],
   "source": [
    "df['2019':'2017']"
   ]
  },
  {
   "cell_type": "code",
   "execution_count": 38,
   "metadata": {},
   "outputs": [
    {
     "data": {
      "text/html": [
       "<div>\n",
       "<style scoped>\n",
       "    .dataframe tbody tr th:only-of-type {\n",
       "        vertical-align: middle;\n",
       "    }\n",
       "\n",
       "    .dataframe tbody tr th {\n",
       "        vertical-align: top;\n",
       "    }\n",
       "\n",
       "    .dataframe thead th {\n",
       "        text-align: right;\n",
       "    }\n",
       "</style>\n",
       "<table border=\"1\" class=\"dataframe\">\n",
       "  <thead>\n",
       "    <tr style=\"text-align: right;\">\n",
       "      <th></th>\n",
       "      <th>Close/Last</th>\n",
       "      <th>Volume</th>\n",
       "      <th>Open</th>\n",
       "      <th>High</th>\n",
       "      <th>Low</th>\n",
       "    </tr>\n",
       "    <tr>\n",
       "      <th>Date</th>\n",
       "      <th></th>\n",
       "      <th></th>\n",
       "      <th></th>\n",
       "      <th></th>\n",
       "      <th></th>\n",
       "    </tr>\n",
       "  </thead>\n",
       "  <tbody>\n",
       "    <tr>\n",
       "      <th>2020-01-08</th>\n",
       "      <td>$303.19</td>\n",
       "      <td>33090950</td>\n",
       "      <td>$297.16</td>\n",
       "      <td>$304.44</td>\n",
       "      <td>$297.16</td>\n",
       "    </tr>\n",
       "    <tr>\n",
       "      <th>2020-01-07</th>\n",
       "      <td>$298.39</td>\n",
       "      <td>27877660</td>\n",
       "      <td>$299.84</td>\n",
       "      <td>$300.90</td>\n",
       "      <td>$297.48</td>\n",
       "    </tr>\n",
       "    <tr>\n",
       "      <th>2020-01-06</th>\n",
       "      <td>$299.80</td>\n",
       "      <td>29644640</td>\n",
       "      <td>$293.79</td>\n",
       "      <td>$299.96</td>\n",
       "      <td>$292.75</td>\n",
       "    </tr>\n",
       "    <tr>\n",
       "      <th>2020-01-03</th>\n",
       "      <td>$297.43</td>\n",
       "      <td>36633880</td>\n",
       "      <td>$297.15</td>\n",
       "      <td>$300.58</td>\n",
       "      <td>$296.50</td>\n",
       "    </tr>\n",
       "    <tr>\n",
       "      <th>2020-01-02</th>\n",
       "      <td>$300.35</td>\n",
       "      <td>33911860</td>\n",
       "      <td>$296.24</td>\n",
       "      <td>$300.60</td>\n",
       "      <td>$295.19</td>\n",
       "    </tr>\n",
       "    <tr>\n",
       "      <th>...</th>\n",
       "      <td>...</td>\n",
       "      <td>...</td>\n",
       "      <td>...</td>\n",
       "      <td>...</td>\n",
       "      <td>...</td>\n",
       "    </tr>\n",
       "    <tr>\n",
       "      <th>2017-01-09</th>\n",
       "      <td>$118.99</td>\n",
       "      <td>33420290</td>\n",
       "      <td>$117.95</td>\n",
       "      <td>$119.43</td>\n",
       "      <td>$117.94</td>\n",
       "    </tr>\n",
       "    <tr>\n",
       "      <th>2017-01-06</th>\n",
       "      <td>$117.91</td>\n",
       "      <td>31714820</td>\n",
       "      <td>$116.78</td>\n",
       "      <td>$118.16</td>\n",
       "      <td>$116.47</td>\n",
       "    </tr>\n",
       "    <tr>\n",
       "      <th>2017-01-05</th>\n",
       "      <td>$116.61</td>\n",
       "      <td>22115100</td>\n",
       "      <td>$115.92</td>\n",
       "      <td>$116.86</td>\n",
       "      <td>$115.81</td>\n",
       "    </tr>\n",
       "    <tr>\n",
       "      <th>2017-01-04</th>\n",
       "      <td>$116.02</td>\n",
       "      <td>21081620</td>\n",
       "      <td>$115.85</td>\n",
       "      <td>$116.51</td>\n",
       "      <td>$115.75</td>\n",
       "    </tr>\n",
       "    <tr>\n",
       "      <th>2017-01-03</th>\n",
       "      <td>$116.15</td>\n",
       "      <td>28769220</td>\n",
       "      <td>$115.80</td>\n",
       "      <td>$116.33</td>\n",
       "      <td>$114.76</td>\n",
       "    </tr>\n",
       "  </tbody>\n",
       "</table>\n",
       "<p>759 rows × 5 columns</p>\n",
       "</div>"
      ],
      "text/plain": [
       "            Close/Last    Volume      Open      High       Low\n",
       "Date                                                          \n",
       "2020-01-08    $303.19   33090950  $297.16   $304.44   $297.16 \n",
       "2020-01-07    $298.39   27877660  $299.84   $300.90   $297.48 \n",
       "2020-01-06    $299.80   29644640  $293.79   $299.96   $292.75 \n",
       "2020-01-03    $297.43   36633880  $297.15   $300.58   $296.50 \n",
       "2020-01-02    $300.35   33911860  $296.24   $300.60   $295.19 \n",
       "...                ...       ...       ...       ...       ...\n",
       "2017-01-09    $118.99   33420290  $117.95   $119.43   $117.94 \n",
       "2017-01-06    $117.91   31714820  $116.78   $118.16   $116.47 \n",
       "2017-01-05    $116.61   22115100  $115.92   $116.86   $115.81 \n",
       "2017-01-04    $116.02   21081620  $115.85   $116.51   $115.75 \n",
       "2017-01-03    $116.15   28769220  $115.80   $116.33   $114.76 \n",
       "\n",
       "[759 rows x 5 columns]"
      ]
     },
     "execution_count": 38,
     "metadata": {},
     "output_type": "execute_result"
    }
   ],
   "source": [
    "df['2020-01-08':'2017-01-03']"
   ]
  },
  {
   "cell_type": "markdown",
   "metadata": {},
   "source": [
    "\n",
    "<h2>Resampling</h2>\n",
    "<p>AAPL.csv dataset</p>"
   ]
  },
  {
   "cell_type": "code",
   "execution_count": 76,
   "metadata": {},
   "outputs": [
    {
     "data": {
      "text/plain": [
       "Date\n",
       "2019-08-31    206.095001\n",
       "2019-09-30    217.994999\n",
       "2019-10-31    235.286521\n",
       "2019-11-30    262.520503\n",
       "2019-12-31    276.525710\n",
       "2020-01-31    311.916191\n",
       "2020-02-29    311.270522\n",
       "2020-03-31    262.444092\n",
       "2020-04-30    272.386188\n",
       "2020-05-31    309.985503\n",
       "2020-06-30    345.806360\n",
       "2020-07-31    382.264999\n",
       "2020-08-31    455.262002\n",
       "Freq: M, Name: Close, dtype: float64"
      ]
     },
     "execution_count": 76,
     "metadata": {},
     "output_type": "execute_result"
    }
   ],
   "source": [
    "bf['Close'].resample('M').mean()    # df['Close'] -> row  and resampling month and find the mean"
   ]
  },
  {
   "cell_type": "code",
   "execution_count": 77,
   "metadata": {
    "scrolled": false
   },
   "outputs": [
    {
     "data": {
      "text/html": [
       "<div>\n",
       "<style scoped>\n",
       "    .dataframe tbody tr th:only-of-type {\n",
       "        vertical-align: middle;\n",
       "    }\n",
       "\n",
       "    .dataframe tbody tr th {\n",
       "        vertical-align: top;\n",
       "    }\n",
       "\n",
       "    .dataframe thead th {\n",
       "        text-align: right;\n",
       "    }\n",
       "</style>\n",
       "<table border=\"1\" class=\"dataframe\">\n",
       "  <thead>\n",
       "    <tr style=\"text-align: right;\">\n",
       "      <th></th>\n",
       "      <th>Open</th>\n",
       "      <th>High</th>\n",
       "      <th>Low</th>\n",
       "      <th>Close</th>\n",
       "      <th>Adj Close</th>\n",
       "      <th>Volume</th>\n",
       "    </tr>\n",
       "    <tr>\n",
       "      <th>Date</th>\n",
       "      <th></th>\n",
       "      <th></th>\n",
       "      <th></th>\n",
       "      <th></th>\n",
       "      <th></th>\n",
       "      <th></th>\n",
       "    </tr>\n",
       "  </thead>\n",
       "  <tbody>\n",
       "    <tr>\n",
       "      <th>2019-08-23</th>\n",
       "      <td>209.429993</td>\n",
       "      <td>212.050003</td>\n",
       "      <td>201.000000</td>\n",
       "      <td>202.639999</td>\n",
       "      <td>200.649200</td>\n",
       "      <td>46818000</td>\n",
       "    </tr>\n",
       "    <tr>\n",
       "      <th>2019-08-26</th>\n",
       "      <td>205.860001</td>\n",
       "      <td>207.190002</td>\n",
       "      <td>205.059998</td>\n",
       "      <td>206.490005</td>\n",
       "      <td>204.461349</td>\n",
       "      <td>26043600</td>\n",
       "    </tr>\n",
       "    <tr>\n",
       "      <th>2019-08-27</th>\n",
       "      <td>207.860001</td>\n",
       "      <td>208.550003</td>\n",
       "      <td>203.529999</td>\n",
       "      <td>204.160004</td>\n",
       "      <td>202.154251</td>\n",
       "      <td>25873300</td>\n",
       "    </tr>\n",
       "    <tr>\n",
       "      <th>2019-08-28</th>\n",
       "      <td>204.100006</td>\n",
       "      <td>205.720001</td>\n",
       "      <td>203.320007</td>\n",
       "      <td>205.529999</td>\n",
       "      <td>203.510803</td>\n",
       "      <td>15938800</td>\n",
       "    </tr>\n",
       "    <tr>\n",
       "      <th>2019-08-29</th>\n",
       "      <td>208.500000</td>\n",
       "      <td>209.320007</td>\n",
       "      <td>206.660004</td>\n",
       "      <td>209.009995</td>\n",
       "      <td>206.956604</td>\n",
       "      <td>20990500</td>\n",
       "    </tr>\n",
       "    <tr>\n",
       "      <th>...</th>\n",
       "      <td>...</td>\n",
       "      <td>...</td>\n",
       "      <td>...</td>\n",
       "      <td>...</td>\n",
       "      <td>...</td>\n",
       "      <td>...</td>\n",
       "    </tr>\n",
       "    <tr>\n",
       "      <th>2020-08-17</th>\n",
       "      <td>464.250000</td>\n",
       "      <td>464.350006</td>\n",
       "      <td>455.850006</td>\n",
       "      <td>458.429993</td>\n",
       "      <td>458.429993</td>\n",
       "      <td>29890400</td>\n",
       "    </tr>\n",
       "    <tr>\n",
       "      <th>2020-08-18</th>\n",
       "      <td>457.410004</td>\n",
       "      <td>464.000000</td>\n",
       "      <td>456.029999</td>\n",
       "      <td>462.250000</td>\n",
       "      <td>462.250000</td>\n",
       "      <td>26408400</td>\n",
       "    </tr>\n",
       "    <tr>\n",
       "      <th>2020-08-19</th>\n",
       "      <td>463.929993</td>\n",
       "      <td>468.649994</td>\n",
       "      <td>462.440002</td>\n",
       "      <td>462.829987</td>\n",
       "      <td>462.829987</td>\n",
       "      <td>36384500</td>\n",
       "    </tr>\n",
       "    <tr>\n",
       "      <th>2020-08-20</th>\n",
       "      <td>463.000000</td>\n",
       "      <td>473.570007</td>\n",
       "      <td>462.929993</td>\n",
       "      <td>473.100006</td>\n",
       "      <td>473.100006</td>\n",
       "      <td>31726800</td>\n",
       "    </tr>\n",
       "    <tr>\n",
       "      <th>2020-08-21</th>\n",
       "      <td>477.049988</td>\n",
       "      <td>499.470001</td>\n",
       "      <td>477.000000</td>\n",
       "      <td>497.480011</td>\n",
       "      <td>497.480011</td>\n",
       "      <td>84299500</td>\n",
       "    </tr>\n",
       "  </tbody>\n",
       "</table>\n",
       "<p>252 rows × 6 columns</p>\n",
       "</div>"
      ],
      "text/plain": [
       "                  Open        High         Low       Close   Adj Close  \\\n",
       "Date                                                                     \n",
       "2019-08-23  209.429993  212.050003  201.000000  202.639999  200.649200   \n",
       "2019-08-26  205.860001  207.190002  205.059998  206.490005  204.461349   \n",
       "2019-08-27  207.860001  208.550003  203.529999  204.160004  202.154251   \n",
       "2019-08-28  204.100006  205.720001  203.320007  205.529999  203.510803   \n",
       "2019-08-29  208.500000  209.320007  206.660004  209.009995  206.956604   \n",
       "...                ...         ...         ...         ...         ...   \n",
       "2020-08-17  464.250000  464.350006  455.850006  458.429993  458.429993   \n",
       "2020-08-18  457.410004  464.000000  456.029999  462.250000  462.250000   \n",
       "2020-08-19  463.929993  468.649994  462.440002  462.829987  462.829987   \n",
       "2020-08-20  463.000000  473.570007  462.929993  473.100006  473.100006   \n",
       "2020-08-21  477.049988  499.470001  477.000000  497.480011  497.480011   \n",
       "\n",
       "              Volume  \n",
       "Date                  \n",
       "2019-08-23  46818000  \n",
       "2019-08-26  26043600  \n",
       "2019-08-27  25873300  \n",
       "2019-08-28  15938800  \n",
       "2019-08-29  20990500  \n",
       "...              ...  \n",
       "2020-08-17  29890400  \n",
       "2020-08-18  26408400  \n",
       "2020-08-19  36384500  \n",
       "2020-08-20  31726800  \n",
       "2020-08-21  84299500  \n",
       "\n",
       "[252 rows x 6 columns]"
      ]
     },
     "execution_count": 77,
     "metadata": {},
     "output_type": "execute_result"
    }
   ],
   "source": [
    "bf"
   ]
  },
  {
   "cell_type": "code",
   "execution_count": 84,
   "metadata": {},
   "outputs": [
    {
     "data": {
      "text/plain": [
       "Date\n",
       "2019-08-31    206.095001\n",
       "2019-09-30    217.994999\n",
       "2019-10-31    235.286521\n",
       "2019-11-30    262.520503\n",
       "2019-12-31    276.525710\n",
       "Freq: M, Name: Close, dtype: float64"
      ]
     },
     "execution_count": 84,
     "metadata": {},
     "output_type": "execute_result"
    }
   ],
   "source": [
    "bf['Close'].resample('M').mean().head()"
   ]
  },
  {
   "cell_type": "code",
   "execution_count": 88,
   "metadata": {},
   "outputs": [
    {
     "data": {
      "text/plain": [
       "<matplotlib.axes._subplots.AxesSubplot at 0x2bff563c988>"
      ]
     },
     "execution_count": 88,
     "metadata": {},
     "output_type": "execute_result"
    },
    {
     "data": {
      "image/png": "[encoded data removed]",
      "text/plain": [
       "<Figure size 432x288 with 1 Axes>"
      ]
     },
     "metadata": {
      "needs_background": "light"
     },
     "output_type": "display_data"
    }
   ],
   "source": [
    "%matplotlib inline\n",
    "bf['Close'].plot()"
   ]
  },
  {
   "cell_type": "code",
   "execution_count": 86,
   "metadata": {},
   "outputs": [
    {
     "data": {
      "text/plain": [
       "Date\n",
       "2019-08-31    AxesSubplot(0.125,0.125;0.775x0.755)\n",
       "2019-09-30    AxesSubplot(0.125,0.125;0.775x0.755)\n",
       "2019-10-31    AxesSubplot(0.125,0.125;0.775x0.755)\n",
       "2019-11-30    AxesSubplot(0.125,0.125;0.775x0.755)\n",
       "2019-12-31    AxesSubplot(0.125,0.125;0.775x0.755)\n",
       "2020-01-31    AxesSubplot(0.125,0.125;0.775x0.755)\n",
       "2020-02-29    AxesSubplot(0.125,0.125;0.775x0.755)\n",
       "2020-03-31    AxesSubplot(0.125,0.125;0.775x0.755)\n",
       "2020-04-30    AxesSubplot(0.125,0.125;0.775x0.755)\n",
       "2020-05-31    AxesSubplot(0.125,0.125;0.775x0.755)\n",
       "2020-06-30    AxesSubplot(0.125,0.125;0.775x0.755)\n",
       "2020-07-31    AxesSubplot(0.125,0.125;0.775x0.755)\n",
       "2020-08-31    AxesSubplot(0.125,0.125;0.775x0.755)\n",
       "Freq: M, Name: Close, dtype: object"
      ]
     },
     "execution_count": 86,
     "metadata": {},
     "output_type": "execute_result"
    },
    {
     "data": {
      "image/png": "[encoded data removed]",
      "text/plain": [
       "<Figure size 432x288 with 1 Axes>"
      ]
     },
     "metadata": {
      "needs_background": "light"
     },
     "output_type": "display_data"
    }
   ],
   "source": [
    "%matplotlib inline\n",
    "bf['Close'].resample('M').plot()"
   ]
  },
  {
   "cell_type": "code",
   "execution_count": 89,
   "metadata": {},
   "outputs": [
    {
     "data": {
      "text/plain": [
       "Date\n",
       "2019-08-25    AxesSubplot(0.125,0.2;0.775x0.68)\n",
       "2019-09-01    AxesSubplot(0.125,0.2;0.775x0.68)\n",
       "2019-09-08    AxesSubplot(0.125,0.2;0.775x0.68)\n",
       "2019-09-15    AxesSubplot(0.125,0.2;0.775x0.68)\n",
       "2019-09-22    AxesSubplot(0.125,0.2;0.775x0.68)\n",
       "2019-09-29    AxesSubplot(0.125,0.2;0.775x0.68)\n",
       "2019-10-06    AxesSubplot(0.125,0.2;0.775x0.68)\n",
       "2019-10-13    AxesSubplot(0.125,0.2;0.775x0.68)\n",
       "2019-10-20    AxesSubplot(0.125,0.2;0.775x0.68)\n",
       "2019-10-27    AxesSubplot(0.125,0.2;0.775x0.68)\n",
       "2019-11-03    AxesSubplot(0.125,0.2;0.775x0.68)\n",
       "2019-11-10    AxesSubplot(0.125,0.2;0.775x0.68)\n",
       "2019-11-17    AxesSubplot(0.125,0.2;0.775x0.68)\n",
       "2019-11-24    AxesSubplot(0.125,0.2;0.775x0.68)\n",
       "2019-12-01    AxesSubplot(0.125,0.2;0.775x0.68)\n",
       "2019-12-08    AxesSubplot(0.125,0.2;0.775x0.68)\n",
       "2019-12-15    AxesSubplot(0.125,0.2;0.775x0.68)\n",
       "2019-12-22    AxesSubplot(0.125,0.2;0.775x0.68)\n",
       "2019-12-29    AxesSubplot(0.125,0.2;0.775x0.68)\n",
       "2020-01-05    AxesSubplot(0.125,0.2;0.775x0.68)\n",
       "2020-01-12    AxesSubplot(0.125,0.2;0.775x0.68)\n",
       "2020-01-19    AxesSubplot(0.125,0.2;0.775x0.68)\n",
       "2020-01-26    AxesSubplot(0.125,0.2;0.775x0.68)\n",
       "2020-02-02    AxesSubplot(0.125,0.2;0.775x0.68)\n",
       "2020-02-09    AxesSubplot(0.125,0.2;0.775x0.68)\n",
       "2020-02-16    AxesSubplot(0.125,0.2;0.775x0.68)\n",
       "2020-02-23    AxesSubplot(0.125,0.2;0.775x0.68)\n",
       "2020-03-01    AxesSubplot(0.125,0.2;0.775x0.68)\n",
       "2020-03-08    AxesSubplot(0.125,0.2;0.775x0.68)\n",
       "2020-03-15    AxesSubplot(0.125,0.2;0.775x0.68)\n",
       "2020-03-22    AxesSubplot(0.125,0.2;0.775x0.68)\n",
       "2020-03-29    AxesSubplot(0.125,0.2;0.775x0.68)\n",
       "2020-04-05    AxesSubplot(0.125,0.2;0.775x0.68)\n",
       "2020-04-12    AxesSubplot(0.125,0.2;0.775x0.68)\n",
       "2020-04-19    AxesSubplot(0.125,0.2;0.775x0.68)\n",
       "2020-04-26    AxesSubplot(0.125,0.2;0.775x0.68)\n",
       "2020-05-03    AxesSubplot(0.125,0.2;0.775x0.68)\n",
       "2020-05-10    AxesSubplot(0.125,0.2;0.775x0.68)\n",
       "2020-05-17    AxesSubplot(0.125,0.2;0.775x0.68)\n",
       "2020-05-24    AxesSubplot(0.125,0.2;0.775x0.68)\n",
       "2020-05-31    AxesSubplot(0.125,0.2;0.775x0.68)\n",
       "2020-06-07    AxesSubplot(0.125,0.2;0.775x0.68)\n",
       "2020-06-14    AxesSubplot(0.125,0.2;0.775x0.68)\n",
       "2020-06-21    AxesSubplot(0.125,0.2;0.775x0.68)\n",
       "2020-06-28    AxesSubplot(0.125,0.2;0.775x0.68)\n",
       "2020-07-05    AxesSubplot(0.125,0.2;0.775x0.68)\n",
       "2020-07-12    AxesSubplot(0.125,0.2;0.775x0.68)\n",
       "2020-07-19    AxesSubplot(0.125,0.2;0.775x0.68)\n",
       "2020-07-26    AxesSubplot(0.125,0.2;0.775x0.68)\n",
       "2020-08-02    AxesSubplot(0.125,0.2;0.775x0.68)\n",
       "2020-08-09    AxesSubplot(0.125,0.2;0.775x0.68)\n",
       "2020-08-16    AxesSubplot(0.125,0.2;0.775x0.68)\n",
       "2020-08-23    AxesSubplot(0.125,0.2;0.775x0.68)\n",
       "Freq: W-SUN, Name: Close, dtype: object"
      ]
     },
     "execution_count": 89,
     "metadata": {},
     "output_type": "execute_result"
    },
    {
     "data": {
      "image/png": "[encoded data removed]",
      "text/plain": [
       "<Figure size 432x288 with 1 Axes>"
      ]
     },
     "metadata": {
      "needs_background": "light"
     },
     "output_type": "display_data"
    }
   ],
   "source": [
    "bf['Close'].resample('W').plot()"
   ]
  },
  {
   "cell_type": "code",
   "execution_count": 90,
   "metadata": {},
   "outputs": [
    {
     "data": {
      "text/plain": [
       "Date\n",
       "2019-12-31    AxesSubplot(0.125,0.2;0.775x0.68)\n",
       "2020-12-31    AxesSubplot(0.125,0.2;0.775x0.68)\n",
       "Freq: A-DEC, Name: Close, dtype: object"
      ]
     },
     "execution_count": 90,
     "metadata": {},
     "output_type": "execute_result"
    },
    {
     "data": {
      "image/png": "[encoded data removed]",
      "text/plain": [
       "<Figure size 432x288 with 1 Axes>"
      ]
     },
     "metadata": {
      "needs_background": "light"
     },
     "output_type": "display_data"
    }
   ],
   "source": [
    "bf['Close'].resample('Y').plot()"
   ]
  },
  {
   "cell_type": "code",
   "execution_count": 96,
   "metadata": {},
   "outputs": [
    {
     "data": {
      "text/plain": [
       "<matplotlib.axes._subplots.AxesSubplot at 0x2bff5837b08>"
      ]
     },
     "execution_count": 96,
     "metadata": {},
     "output_type": "execute_result"
    },
    {
     "data": {
      "image/png": "[encoded data removed]",
      "text/plain": [
       "<Figure size 432x288 with 1 Axes>"
      ]
     },
     "metadata": {
      "needs_background": "light"
     },
     "output_type": "display_data"
    }
   ],
   "source": [
    "bf['Close'].resample('Q').mean().plot()\n"
   ]
  },
  {
   "cell_type": "code",
   "execution_count": 95,
   "metadata": {},
   "outputs": [
    {
     "data": {
      "text/plain": [
       "<matplotlib.axes._subplots.AxesSubplot at 0x2bff69ad388>"
      ]
     },
     "execution_count": 95,
     "metadata": {},
     "output_type": "execute_result"
    },
    {
     "data": {
      "image/png": "[encoded data removed]",
      "text/plain": [
       "<Figure size 432x288 with 1 Axes>"
      ]
     },
     "metadata": {
      "needs_background": "light"
     },
     "output_type": "display_data"
    }
   ],
   "source": [
    "bf['Close'].resample('M').mean().plot(kind='bar')\n"
   ]
  },
  {
   "cell_type": "code",
   "execution_count": null,
   "metadata": {},
   "outputs": [],
   "source": []
  },
  {
   "cell_type": "code",
   "execution_count": 78,
   "metadata": {},
   "outputs": [
    {
     "data": {
      "text/html": [
       "<div>\n",
       "<style scoped>\n",
       "    .dataframe tbody tr th:only-of-type {\n",
       "        vertical-align: middle;\n",
       "    }\n",
       "\n",
       "    .dataframe tbody tr th {\n",
       "        vertical-align: top;\n",
       "    }\n",
       "\n",
       "    .dataframe thead th {\n",
       "        text-align: right;\n",
       "    }\n",
       "</style>\n",
       "<table border=\"1\" class=\"dataframe\">\n",
       "  <thead>\n",
       "    <tr style=\"text-align: right;\">\n",
       "      <th></th>\n",
       "      <th>Close/Last</th>\n",
       "      <th>Volume</th>\n",
       "      <th>Open</th>\n",
       "      <th>High</th>\n",
       "      <th>Low</th>\n",
       "    </tr>\n",
       "    <tr>\n",
       "      <th>Date</th>\n",
       "      <th></th>\n",
       "      <th></th>\n",
       "      <th></th>\n",
       "      <th></th>\n",
       "      <th></th>\n",
       "    </tr>\n",
       "  </thead>\n",
       "  <tbody>\n",
       "    <tr>\n",
       "      <th>2020-08-21</th>\n",
       "      <td>$497.48</td>\n",
       "      <td>84513660</td>\n",
       "      <td>$477.05</td>\n",
       "      <td>$499.47</td>\n",
       "      <td>$477</td>\n",
       "    </tr>\n",
       "    <tr>\n",
       "      <th>2020-08-20</th>\n",
       "      <td>$473.10</td>\n",
       "      <td>31726800</td>\n",
       "      <td>$463</td>\n",
       "      <td>$473.57</td>\n",
       "      <td>$462.93</td>\n",
       "    </tr>\n",
       "    <tr>\n",
       "      <th>2020-08-19</th>\n",
       "      <td>$462.83</td>\n",
       "      <td>36384500</td>\n",
       "      <td>$463.93</td>\n",
       "      <td>$468.65</td>\n",
       "      <td>$462.44</td>\n",
       "    </tr>\n",
       "    <tr>\n",
       "      <th>2020-08-18</th>\n",
       "      <td>$462.25</td>\n",
       "      <td>26408390</td>\n",
       "      <td>$457.41</td>\n",
       "      <td>$464</td>\n",
       "      <td>$456.03</td>\n",
       "    </tr>\n",
       "    <tr>\n",
       "      <th>2020-08-17</th>\n",
       "      <td>$458.43</td>\n",
       "      <td>29890360</td>\n",
       "      <td>$464.25</td>\n",
       "      <td>$464.35</td>\n",
       "      <td>$455.85</td>\n",
       "    </tr>\n",
       "  </tbody>\n",
       "</table>\n",
       "</div>"
      ],
      "text/plain": [
       "            Close/Last    Volume      Open      High       Low\n",
       "Date                                                          \n",
       "2020-08-21    $497.48   84513660  $477.05   $499.47      $477 \n",
       "2020-08-20    $473.10   31726800     $463   $473.57   $462.93 \n",
       "2020-08-19    $462.83   36384500  $463.93   $468.65   $462.44 \n",
       "2020-08-18    $462.25   26408390  $457.41      $464   $456.03 \n",
       "2020-08-17    $458.43   29890360  $464.25   $464.35   $455.85 "
      ]
     },
     "execution_count": 78,
     "metadata": {},
     "output_type": "execute_result"
    }
   ],
   "source": [
    "df.head()"
   ]
  },
  {
   "cell_type": "code",
   "execution_count": 79,
   "metadata": {},
   "outputs": [
    {
     "data": {
      "text/plain": [
       "str"
      ]
     },
     "execution_count": 79,
     "metadata": {},
     "output_type": "execute_result"
    }
   ],
   "source": [
    "type(df[' Close/Last'][0])"
   ]
  },
  {
   "cell_type": "code",
   "execution_count": 101,
   "metadata": {
    "scrolled": true
   },
   "outputs": [
    {
     "data": {
      "text/plain": [
       "Date\n",
       "2020-08-21    $497.48 \n",
       "2020-08-20    $473.10 \n",
       "2020-08-19    $462.83 \n",
       "2020-08-18    $462.25 \n",
       "2020-08-17    $458.43 \n",
       "                ...   \n",
       "2015-08-28    $113.29 \n",
       "2015-08-27    $112.92 \n",
       "2015-08-26    $109.69 \n",
       "2015-08-25    $103.74 \n",
       "2015-08-24    $103.12 \n",
       "Name:  Close/Last, Length: 1259, dtype: object"
      ]
     },
     "execution_count": 101,
     "metadata": {},
     "output_type": "execute_result"
    }
   ],
   "source": [
    "df[' Close/Last']"
   ]
  },
  {
   "cell_type": "code",
   "execution_count": 102,
   "metadata": {
    "scrolled": false
   },
   "outputs": [
    {
     "data": {
      "text/plain": [
       "DatetimeIndex(['2020-08-21', '2020-08-20', '2020-08-19', '2020-08-18',\n",
       "               '2020-08-17', '2020-08-14', '2020-08-13', '2020-08-12',\n",
       "               '2020-08-11', '2020-08-10',\n",
       "               ...\n",
       "               '2015-09-04', '2015-09-03', '2015-09-02', '2015-09-01',\n",
       "               '2015-08-31', '2015-08-28', '2015-08-27', '2015-08-26',\n",
       "               '2015-08-25', '2015-08-24'],\n",
       "              dtype='datetime64[ns]', name='Date', length=1259, freq=None)"
      ]
     },
     "execution_count": 102,
     "metadata": {},
     "output_type": "execute_result"
    }
   ],
   "source": [
    "df[' Close/Last'].index"
   ]
  },
  {
   "cell_type": "code",
   "execution_count": 106,
   "metadata": {},
   "outputs": [
    {
     "data": {
      "text/plain": [
       "(1259,)"
      ]
     },
     "execution_count": 106,
     "metadata": {},
     "output_type": "execute_result"
    }
   ],
   "source": [
    "df[' Close/Last'].shape"
   ]
  },
  {
   "cell_type": "code",
   "execution_count": 103,
   "metadata": {
    "scrolled": true
   },
   "outputs": [
    {
     "data": {
      "text/plain": [
       "1259"
      ]
     },
     "execution_count": 103,
     "metadata": {},
     "output_type": "execute_result"
    }
   ],
   "source": [
    "df[' Close/Last'].size"
   ]
  },
  {
   "cell_type": "code",
   "execution_count": 104,
   "metadata": {},
   "outputs": [
    {
     "data": {
      "text/plain": [
       "array(['$497.48 ', '$473.10 ', '$462.83 ', ..., '$109.69 ', '$103.74 ',\n",
       "       '$103.12 '], dtype=object)"
      ]
     },
     "execution_count": 104,
     "metadata": {},
     "output_type": "execute_result"
    }
   ],
   "source": [
    "df[' Close/Last'].values"
   ]
  },
  {
   "cell_type": "code",
   "execution_count": 107,
   "metadata": {},
   "outputs": [
    {
     "ename": "ValueError",
     "evalue": "Unable to parse string \" Close/Last\" at position 0",
     "output_type": "error",
     "traceback": [
      "\u001b[1;31m---------------------------------------------------------------------------\u001b[0m",
      "\u001b[1;31mValueError\u001b[0m                                Traceback (most recent call last)",
      "\u001b[1;32mpandas\\_libs\\lib.pyx\u001b[0m in \u001b[0;36mpandas._libs.lib.maybe_convert_numeric\u001b[1;34m()\u001b[0m\n",
      "\u001b[1;31mValueError\u001b[0m: Unable to parse string \" Close/Last\"",
      "\nDuring handling of the above exception, another exception occurred:\n",
      "\u001b[1;31mValueError\u001b[0m                                Traceback (most recent call last)",
      "\u001b[1;32m<ipython-input-107-3c38310e4a75>\u001b[0m in \u001b[0;36m<module>\u001b[1;34m\u001b[0m\n\u001b[1;32m----> 1\u001b[1;33m \u001b[0mdf\u001b[0m\u001b[1;33m[\u001b[0m\u001b[1;34m' Close/Last'\u001b[0m\u001b[1;33m]\u001b[0m \u001b[1;33m=\u001b[0m \u001b[0mpd\u001b[0m\u001b[1;33m.\u001b[0m\u001b[0mto_numeric\u001b[0m\u001b[1;33m(\u001b[0m\u001b[1;33m[\u001b[0m\u001b[1;34m' Close/Last'\u001b[0m\u001b[1;33m]\u001b[0m\u001b[1;33m)\u001b[0m\u001b[1;33m\u001b[0m\u001b[1;33m\u001b[0m\u001b[0m\n\u001b[0m",
      "\u001b[1;32m~\\Anaconda3\\lib\\site-packages\\pandas\\core\\tools\\numeric.py\u001b[0m in \u001b[0;36mto_numeric\u001b[1;34m(arg, errors, downcast)\u001b[0m\n\u001b[0;32m    148\u001b[0m         \u001b[1;32mtry\u001b[0m\u001b[1;33m:\u001b[0m\u001b[1;33m\u001b[0m\u001b[1;33m\u001b[0m\u001b[0m\n\u001b[0;32m    149\u001b[0m             values = lib.maybe_convert_numeric(\n\u001b[1;32m--> 150\u001b[1;33m                 \u001b[0mvalues\u001b[0m\u001b[1;33m,\u001b[0m \u001b[0mset\u001b[0m\u001b[1;33m(\u001b[0m\u001b[1;33m)\u001b[0m\u001b[1;33m,\u001b[0m \u001b[0mcoerce_numeric\u001b[0m\u001b[1;33m=\u001b[0m\u001b[0mcoerce_numeric\u001b[0m\u001b[1;33m\u001b[0m\u001b[1;33m\u001b[0m\u001b[0m\n\u001b[0m\u001b[0;32m    151\u001b[0m             )\n\u001b[0;32m    152\u001b[0m         \u001b[1;32mexcept\u001b[0m \u001b[1;33m(\u001b[0m\u001b[0mValueError\u001b[0m\u001b[1;33m,\u001b[0m \u001b[0mTypeError\u001b[0m\u001b[1;33m)\u001b[0m\u001b[1;33m:\u001b[0m\u001b[1;33m\u001b[0m\u001b[1;33m\u001b[0m\u001b[0m\n",
      "\u001b[1;32mpandas\\_libs\\lib.pyx\u001b[0m in \u001b[0;36mpandas._libs.lib.maybe_convert_numeric\u001b[1;34m()\u001b[0m\n",
      "\u001b[1;31mValueError\u001b[0m: Unable to parse string \" Close/Last\" at position 0"
     ]
    }
   ],
   "source": [
    "\n",
    "# Sorry i cant conver it str to numeric\n",
    "df[' Close/Last'] = pd.to_numeric([' Close/Last'] , errors='coerce')"
   ]
  },
  {
   "cell_type": "code",
   "execution_count": null,
   "metadata": {},
   "outputs": [],
   "source": []
  }
 ],
 "metadata": {
  "kernelspec": {
   "display_name": "Python 3",
   "language": "python",
   "name": "python3"
  },
  "language_info": {
   "codemirror_mode": {
    "name": "ipython",
    "version": 3
   },
   "file_extension": ".py",
   "mimetype": "text/x-python",
   "name": "python",
   "nbconvert_exporter": "python",
   "pygments_lexer": "ipython3",
   "version": "3.7.4"
  }
 },
 "nbformat": 4,
 "nbformat_minor": 4
}
